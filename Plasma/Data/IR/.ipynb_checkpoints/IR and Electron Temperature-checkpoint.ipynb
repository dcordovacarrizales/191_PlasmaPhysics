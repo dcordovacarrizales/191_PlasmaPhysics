{
 "cells": [
  {
   "cell_type": "code",
   "execution_count": 4,
   "metadata": {},
   "outputs": [],
   "source": [
    "import matplotlib.pyplot as plt\n",
    "import numpy as np \n",
    "import pandas as pd\n",
    "import scipy\n",
    "from scipy.optimize import curve_fit\n",
    "import glob\n",
    "import os\n",
    "%matplotlib inline"
   ]
  },
  {
   "cell_type": "code",
   "execution_count": 5,
   "metadata": {},
   "outputs": [
    {
     "name": "stdout",
     "output_type": "stream",
     "text": [
      "Requirement already satisfied: tabulate in /opt/anaconda3/lib/python3.7/site-packages (0.8.9)\n",
      "Note: you may need to restart the kernel to use updated packages.\n"
     ]
    }
   ],
   "source": [
    "pip install tabulate"
   ]
  },
  {
   "cell_type": "code",
   "execution_count": 9,
   "metadata": {},
   "outputs": [
    {
     "name": "stdout",
     "output_type": "stream",
     "text": [
      "1932.1415445525677\n"
     ]
    }
   ],
   "source": [
    "\n",
    "#pip install tabulate\n",
    "\n",
    "#use of glob to get all .txt files in the folder\n",
    "path = os.getcwd()\n",
    "txt_files = glob.glob(os.path.join(path, \"*.txt\"))\n",
    "argon_data_frames = {}\n",
    "helium_data_frames = {}\n",
    "\n",
    "for file in txt_files: \n",
    "    df = pd.read_csv(file)\n",
    "    df = df.drop(columns='Unnamed: 5')\n",
    "    df = df.dropna(axis =0)\n",
    "    df_columns = df.keys()\n",
    "\n",
    "    df = df.astype('float64')\n",
    "\n",
    "    #df.plot(df_columns[0], df_columns[1], title = file)\n",
    "#     print(df[df_columns[1]], df[df_columns[0]])\n",
    "    if \"Helium\" in file: \n",
    "       \n",
    "        helium_data_frames[file] =  df\n",
    "    else: \n",
    "\n",
    "        argon_data_frames[file]= df\n",
    "        \n",
    "\n",
    "#/Users/denissecordovacarrizales/Documents/Physics_191/Plasma/Data/IR/Helium1000V845mT-60-0range1step.txt\n",
    "#There are only two files with good data. This file is the best one.  \n",
    "\n",
    "\n",
    "m_e = 9.10938356 * 10**(-31)\n",
    "m_i = (6.6335209 * 10**(-26)) - (9.10938356 * 10**(-31)) #neutral minus electron\n",
    "k = 8.617333262145 * 10**(-5) #electronvolts The k constant actually doesn't matter that much because it gets cancelled out in line 66\n",
    "e = 1.60217662 * 10**(-19) #charge of electron in coloumbs\n",
    "\n",
    "def exponential(V_bias, V_plasma, T_e):\n",
    "    \"\"\" function we are trying to fit to\n",
    "    \"\"\"\n",
    "    I_electron = np.exp(-e*(V_plasma - V_bias)/(k*T_e))\n",
    "    return I_electron                                                                                                                          \n",
    "                                                                                                                                     \n",
    "\n",
    "IV_array = helium_data_frames[\"/Users/denissecordovacarrizales/Documents/Physics_191/Plasma/Data/IR/Helium1000V845mT-60-0range1step.txt\"][df_columns[0:2]].to_numpy()\n",
    "#current in first column. voltage in second column\n",
    "\n",
    "shape = int(np.shape(IV_array)[0])\n",
    "\n",
    "current_min = shape - shape%6 # the positive current starts in the last sixth of the array. we can only use positive current because the logarithm input in line 68 cannot be negative\n",
    "current_max = shape \n",
    "\n",
    "\n",
    "\n",
    "\n",
    "linear_current_array = np.log(IV_array[current_min: current_max,1])#according to Wissel paper \n",
    "linear_ansatz_T_e = np.gradient(linear_current_array, 1) * 1/k #according to Wissel paper \n",
    "linear_ansatz_T_e = np.average(linear_ansatz_T_e) #guess of the electron temperature. just approximating to first order with an average \n",
    "\n",
    "\n",
    "print(linear_ansatz_T_e)\n",
    "V_float_ansatz = -40 #the voltage where the current turns positive. found it by eye\n",
    "V_plasma_ansatz = V_float_ansatz + (k*linear_ansatz_T_e/2)*np.log(2*m_i/(np.pi*m_e)) #from Wissel paper \n",
    "#fit = scipy.optimize.curve_fit(exponential, helium_data_frames[\"/Users/denissecordovacarrizales/Documents/Physics_191/Plasma/Data/IR/Helium1000V845mT-60-0range1step.txt\"][df_columns[0]], helium_data_frames[\"/Users/denissecordovacarrizales/Documents/Physics_191/Plasma/Data/IR/Helium1000V845mT-60-0range1step.txt\"][df_columns[1]] , [V_plasma_ansatz, linear_ansatz_T_e ])\n",
    "#print(fit)\n",
    "\n",
    "#plt.plot(fit, IV_array[:, 1])"
   ]
  },
  {
   "cell_type": "code",
   "execution_count": null,
   "metadata": {},
   "outputs": [],
   "source": [
    "\n"
   ]
  },
  {
   "cell_type": "code",
   "execution_count": 4,
   "metadata": {},
   "outputs": [
    {
     "data": {
      "image/png": "[encoded data removed]",
      "text/plain": [
       "<Figure size 432x288 with 1 Axes>"
      ]
     },
     "metadata": {
      "needs_background": "light"
     },
     "output_type": "display_data"
    }
   ],
   "source": [
    "import matplotlib.pyplot as plt\n",
    "for i in range(len(data_frames)):\n",
    "#     print(type(i))\n",
    "#     print(i.keys())\n",
    "    probe_voltage = data_frames[i]['probe voltage (V)']\n",
    "    probe_current = data_frames[i][' probe current (A)']\n",
    "    plt.plot(probe_voltage, probe_current)\n",
    "    "
   ]
  },
  {
   "cell_type": "code",
   "execution_count": 5,
   "metadata": {},
   "outputs": [
    {
     "data": {
      "text/plain": [
       "51"
      ]
     },
     "execution_count": 5,
     "metadata": {},
     "output_type": "execute_result"
    }
   ],
   "source": [
    "len(data_frames[0])"
   ]
  },
  {
   "cell_type": "code",
   "execution_count": 6,
   "metadata": {},
   "outputs": [
    {
     "data": {
      "text/plain": [
       "0    -1.086762e-07\n",
       "1    -9.301785e-08\n",
       "2    -8.140054e-08\n",
       "3    -7.938017e-08\n",
       "4    -7.786470e-08\n",
       "5    -7.382392e-08\n",
       "6    -6.170146e-08\n",
       "7    -6.220656e-08\n",
       "8    -6.018613e-08\n",
       "9    -5.715553e-08\n",
       "10   -5.412491e-08\n",
       "11   -5.463003e-08\n",
       "12   -5.058917e-08\n",
       "13   -4.553819e-08\n",
       "14   -4.048713e-08\n",
       "15   -3.846672e-08\n",
       "16   -3.543610e-08\n",
       "17   -3.543609e-08\n",
       "18   -3.038507e-08\n",
       "19   -2.886974e-08\n",
       "20   -2.179831e-08\n",
       "21   -1.977791e-08\n",
       "22   -1.674729e-08\n",
       "23   -1.573707e-08\n",
       "24   -1.119116e-08\n",
       "25   -5.635015e-09\n",
       "26   -6.645222e-09\n",
       "27   -6.140118e-09\n",
       "28   -5.839865e-10\n",
       "29    4.971738e-09\n",
       "30    2.951529e-09\n",
       "31    6.486892e-09\n",
       "32    8.507100e-09\n",
       "33    1.153741e-08\n",
       "34    1.153741e-08\n",
       "35    1.355763e-08\n",
       "36    1.759803e-08\n",
       "37    1.961825e-08\n",
       "38    2.163845e-08\n",
       "39    2.113339e-08\n",
       "40    2.214350e-08\n",
       "41    2.870917e-08\n",
       "42    2.971928e-08\n",
       "43    3.325464e-08\n",
       "44    2.618388e-08\n",
       "45    3.325463e-08\n",
       "46    3.527483e-08\n",
       "47    3.577989e-08\n",
       "48    4.083040e-08\n",
       "49    3.729503e-08\n",
       "50    5.042640e-08\n",
       "Name:  probe current (A), dtype: float64"
      ]
     },
     "execution_count": 6,
     "metadata": {},
     "output_type": "execute_result"
    }
   ],
   "source": [
    "data_frames[0][' probe current (A)']"
   ]
  },
  {
   "cell_type": "code",
   "execution_count": null,
   "metadata": {},
   "outputs": [],
   "source": []
  }
 ],
 "metadata": {
  "kernelspec": {
   "display_name": "Python 3",
   "language": "python",
   "name": "python3"
  },
  "language_info": {
   "codemirror_mode": {
    "name": "ipython",
    "version": 3
   },
   "file_extension": ".py",
   "mimetype": "text/x-python",
   "name": "python",
   "nbconvert_exporter": "python",
   "pygments_lexer": "ipython3",
   "version": "3.7.6"
  }
 },
 "nbformat": 4,
 "nbformat_minor": 4
}
