{
 "cells": [
  {
   "cell_type": "code",
   "execution_count": 123,
   "metadata": {},
   "outputs": [],
   "source": [
    "import matplotlib.pyplot as plt\n",
    "import numpy as np \n",
    "import pandas as pd\n",
    "import scipy\n",
    "from scipy.optimize import curve_fit\n",
    "import glob\n",
    "import os\n",
    "%matplotlib widget"
   ]
  },
  {
   "cell_type": "code",
   "execution_count": 2,
   "metadata": {},
   "outputs": [],
   "source": [
    "#pip install tabulate"
   ]
  },
  {
   "cell_type": "code",
   "execution_count": 6,
   "metadata": {},
   "outputs": [],
   "source": [
    "#IV_array = helium_data_frames[\"/Users/denissecordovacarrizales/Documents/Physics_191/Plasma/Data/IR/Helium1000V845mT-60-0range1step.txt\"][df_columns[0:2]].to_numpy()\n",
    "#current in first column. voltage in second column\n",
    "\n",
    "#shape = int(np.shape(IV_array)[0])\n",
    "\n",
    "#current_min = shape - shape%6 # the positive current starts in the last sixth of the array. we can only use positive current because the logarithm input in line 68 cannot be negative\n",
    "#current_max = shape \n",
    "\n",
    "\n",
    "\n",
    "#linear_current_array = np.log(IV_array[current_min: current_max,1])#according to Wissel paper \n",
    "\n",
    "\n",
    "#linear_ansatz_T_e = np.gradient(linear_current_array, 1) * 1/k #according to Wissel paper \n",
    "#linear_ansatz_T_e = np.average(linear_ansatz_T_e) #guess of the electron temperature. just approximating to first order with an average \n",
    "\n",
    "\n",
    "#print(linear_ansatz_T_e)\n",
    "##V_float_ansatz = -40 #the voltage where the current turns positive. found it by eye\n",
    "#V_plasma_ansatz = V_float_ansatz + (k*linear_ansatz_T_e/2)*np.log(2*m_i/(np.pi*m_e)) #from Wissel paper \n",
    "#fit = scipy.optimize.curve_fit(exponential, helium_data_frames[\"/Users/denissecordovacarrizales/Documents/Physics_191/Plasma/Data/IR/Helium1000V845mT-60-0range1step.txt\"][df_columns[0]], helium_data_frames[\"/Users/denissecordovacarrizales/Documents/Physics_191/Plasma/Data/IR/Helium1000V845mT-60-0range1step.txt\"][df_columns[1]] , [V_plasma_ansatz, linear_ansatz_T_e ])\n",
    "#print(fit)\n",
    "\n",
    "#plt.plot(fit, IV_array[:, 1])\n",
    "#print(\"hello\")"
   ]
  },
  {
   "cell_type": "code",
   "execution_count": 125,
   "metadata": {},
   "outputs": [
    {
     "name": "stdout",
     "output_type": "stream",
     "text": [
      "/Users/dcordovacarrizales/Documents/GitHub/Physics_191/Plasma/Data/IR/Helium1000V845mT-60-0range1step.txt\n",
      "/Users/dcordovacarrizales/Documents/GitHub/Physics_191/Plasma/Data/IR/Helium1000V661mT-60-0range1step.txt\n"
     ]
    },
    {
     "data": {
      "application/vnd.jupyter.widget-view+json": {
       "model_id": "98be5d17b279470d868b9cd30f20f6a9",
       "version_major": 2,
       "version_minor": 0
      },
      "text/html": [
       "\n",
       "            <div style=\"display: inline-block;\">\n",
       "                <div class=\"jupyter-widgets widget-label\" style=\"text-align: center;\">\n",
       "                    Figure\n",
       "                </div>\n",
       "                <img src='data:image/png;base64,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' width=432.0/>\n",
       "            </div>\n",
       "        "
      ],
      "text/plain": [
       "Canvas(toolbar=Toolbar(toolitems=[('Home', 'Reset original view', 'home', 'home'), ('Back', 'Back to previous …"
      ]
     },
     "metadata": {},
     "output_type": "display_data"
    },
    {
     "data": {
      "application/vnd.jupyter.widget-view+json": {
       "model_id": "4f60e0b9461543f2a207b2ab19657333",
       "version_major": 2,
       "version_minor": 0
      },
      "text/html": [
       "\n",
       "            <div style=\"display: inline-block;\">\n",
       "                <div class=\"jupyter-widgets widget-label\" style=\"text-align: center;\">\n",
       "                    Figure\n",
       "                </div>\n",
       "                <img src='data:image/png;base64,iVBORw0KGgoAAAANSUhEUgAAAbAAAAEgCAYAAADVKCZpAAAAOXRFWHRTb2Z0d2FyZQBNYXRwbG90bGliIHZlcnNpb24zLjMuNCwgaHR0cHM6Ly9tYXRwbG90bGliLm9yZy8QVMy6AAAACXBIWXMAAAsTAAALEwEAmpwYAAAusUlEQVR4nO3deXxU9b3/8ddnyAYJa0BRQkAFBLWIGjewLtWq1YoiWhd+Ll3k2lZ7ba8Xau1irb1X6e1y6869tbXqtYsU0VK1xQXXUlkjKKJYkKAIhDWQhMB8fn+cE5iESTJZ50zyfj4e88jM+Z5z5pMj8PH7PZ/z/Zq7IyIikmli6Q5ARESkJZTAREQkIymBiYhIRlICExGRjKQEJhnJzF4ysyozqwhf79Zr72Fm95nZRjPbamYvN+PcB5nZU2b2kZm5mQ2t1/5fZvaemW03s+VmdnVLzxXuc5aZLTSzHWa2xsy+kNA23czeNbO4mV1b77jLw7atZrbezB42s16pXCMzO8LM5pvZ5vA1x8yOSPUaiUSBEphkshvcvSB8HV6vbTrQDxgV/vxmM84bB54FJjbQvgO4AOgNXAP8t5mNbcm5wqTxf8Ct4fnGAAsSdlkCfA1YmOTw14Bx7t4bOBTIAu6ot09D1+gj4BKCa9MfeAr4XQO/g0gkZaU7AJG2ZmaHA+OBInffFm5e0Mghdbj7J8B9Zpb074e7/yDh4zwzewU4GXi9uecCvgs86O7PhJ/Lw1ft8feGv1NVknOvqbdpDzCsge+pf+wWYEt4bmvOsSJRoR6YZLL/DIcIXzOz0xO2nwisBn4Ytr9lZg31plrFzLoDxwPLWniKk8LzvGVmH5vZo2bWrxnff4qZbQW2E/TyflFvl4auUe3xW4Aq4G7gP1r0G4ikiRKYZKqpBMNmgwiGC582s8PCtiLgKGArcDBwA/CwmY1qhzgeIBjme66FxxcBVxEkn+FAd4JkkhJ3fzUcQiwCfgKsSmhu7BrVHt+HYOjyBmBRC38HkbRQApOM5O7z3H27u1e7+8ME94POC5srgRrgDnff5e5zgReBs+ufx8w+nVDk0KxelJn9hCBRfsFbPqVNJfBrd1/h7hUEvaDzmjhmP+6+luBe2+8StjV2jRKP3UGQiH9rZge08PcQ6XC6ByadhQMWvi9N+SD3V4CC5n6Zmf0Q+BxwWsJ9tpYoJYi9LWQBhzXSnniN6osBPQh6a+vbKB6RdqUemGQcM+tjZueYWZ6ZZZnZJOBU9g3jvQx8CNwSto8DTqcZw3xmlgfkhh9zw8+1bbcAVwKfdffyZMenei7g18AXzexQM+tBMOz354Rjc8L9DcgOf+dY2DbJzIotMAT4MfB8KtfIzD5rZseYWbew9P5nwGbgnVSvkUjaubteemXUCxgAvElQuLAF+DtBMknc50jgDYKS97eBCc38Dq//qtdWDVQkvL6T0F4BfDqVc4XtPwQ2hK9HgL4JbS8lOf70sO3HQFn4O5YR3OcqTOUaAZcCy8NYNwB/AUan+7+tXno152Xumo1eREQyj4YQRUQkIymBiYhIRlICExGRjKQEJiIiGUkJTEREMpISmGSkJpYKmZSwvcLMdoZLmRyX4rmbWk7lC2b2enjel5o4l5nZrWb2oZltM7Pf1VvyZFm9WHeb2dMJ7Q0upxK2f9PM1lmwpMpDZpabZJ/h4bV6tIEYfxD+nmc1eXFEIkQJTDJZ0qVC3P2xhO0FBMuRfEDyJUmSaWo5lU0Ek+bemcK5riaY63AcwbyMdeY6dPcjE+LsSfAA9h8Tjm9wORUzOwf4NnAmMJRg3sMfJonhXoJnwvYTzo14CfBxCr+LSKQogUlXcA3wW0/xoUd3/8Td76OBf/TdfY67/4FgTa2mXAD8yt3XeDDX4V3AZeGsG/WdChwAzEj4rnvd/XmCGePruyY89zJ33wz8CLg2cQczu5zgQebnG4jvHoLZP3al8LuIRIoSmGSyRpcKAQinWDoV+G1HBpYYAnXnHzSCaaWGJ9n3GuAJDybXTcWRBD20WkuAA82sECAcqrwd+LekgZldCuxy97+k+H0ikaIEJpmqyaVCQlcDr7j7PzsyuATPAF8xs6Fm1psgbggmzt0r7JFdAvymGecuIFgyplbt+57hzx8R9v7qH2hmBQQz39/UjO8TiRQlMMlInuJSIQQJ7OGGztOa5VRS9BDwOMGchssIlnWBYO7CRBcT3Fub24xzVwC9Ej7Xvt9uZmOAs4CfN3DsD4FH0pjYRVpNCUw6i/2WCglnoT8YeKLBg9xfSSj4OLLNg3KPu/sP3H2ouxcRJLG14StRs+7ThZYBRyd8Phr4xIMZ8k8nKOz40MzWATcDE82sthjkTOAbYQXjOmAw8Aczm4pIhtB6YJJxzKwPcCJBb2U3cBnBfa6b6u16DTDD3be34DvygG7hx1wzy3P3qrCtG5BN8PcnFu67x91rkpynH9CXoApyFMGyJbe7ezxhnyLgDOD6JMfnEPyP5t7lVAjuW8UJ7uv9xsweI6gi/C77hiCnk7C4JUECGwp8Nfx8Zvg71HoT+BbBkKdIRlACk0yUDdwBjAT2ECwLcpG7Jz4Llgd8gYZL4ZtSmfB+ee1pw59XEazjlbjvw4QVgGZWAXzOg8Uy+wNPE/RwNgD/7e7T633XVcAb7r4ySRx/BU4L348lSExnAC+5+7NmNo1gWLI7QfXiDwDcfSews/YkYUxV7r4hbK+zjpmZ7QE2h5WSIhlBy6mIiEhG0j0wERHJSEpgIiKSkZTAREQkIymBiYhIRlICExGRjNRpy+j79+/vQ4cOTXcYIiIZZcGCBRvdfUC640hFp01gQ4cOZf78+ekOQ0Qko5jZ6nTHkCoNIYqISEZSAhMRkYykBCYiIhlJCUxERDJSZBKYmV1qZsvMLG5mJQnbP2tmC8zsrfDnZ9IZp4hIlJVXVLNkzRbKK6rTHUq7i1IV4lKCRf0erLd9I3CBu39kZkcBzxGswisiIglmLV7L1BmlZMdi1MTjTJs4mvFjOu8/l5Hpgbn7O4nLYSRsX+TuH4UflwF5ZpbbsdGJiERbeUU1U2eUUlUTZ3v1bqpq4kyZUdqpe2KRSWApmggscvfO+19ERKQFyjZXkh2r+096dixG2ebKBo7IfB06hGhmc4CBSZpudfdZTRx7JHAXcHYj+0wGJgMUFxe3IlIRkcxS1Lc7NfF4nW018ThFfbunKaL216EJzN3Paslx4ZLrM4GrG1i1tvb80wlWrKWkpEQrdYpIl1FYkMu0iaOZUu8eWGFB573jEqUijqTMrA8wG7jF3V9LczgiIpE1fswgxg3rT9nmSor6du/UyQsidA/MzCaYWRlwMjDbzJ4Lm24AhgHfM7PF4euAtAUqIpImqZTIFxbkcvTgPp0+eUGEemDuPpNgmLD+9juAOzo+IhGR6OhqJfKpiEwPTEREkuuKJfKpUAITEYm4rlginwolMBGRiOuKJfKpUAITEYm42hL5vOwYPXOzyMuOdfoS+VREpohDREQa1tVK5FOhBCYiEhHlFdWNJqjCglwlrgRKYCIiEdDqMvlNC2HFPdD7SBj1b+0XaIToHpiISJq1qkz+wyfgr+Pg2eNg9e+hZnv7BxwR6oGJiKRZbZl8FfsqDWvL5JMOGVZthLz+4cFPQdV6OPbncOi1kNOnQ2KOAiUwEZE0S6lM3h02vgEr7g56Xee+CX3HQMndkN0TrOsNqHW931hEJGIaLZPfUw0rfx0MEf5tHHz0DIy4EXLDHlhO7y6ZvEA9MBGRDtFUheF+ZfK1na/4Lljwr5A/BE54EIZOgqz8jg0+opTARETaWaoVhoX5ORRWvAIL7oadH8K5C4Phwc8tgoJDwSwN0UdX1+x3ioh0kJQqDGu2w4p7YfYR8MJnYePrcPB5Qe8LoOdhSl5JqAcmItKOGq0wzM8JElPZLJh/A/QrgZMehiFfgG55aYw6MyiBiYi0o/oVhjH2cEqPfzBq+U+g4lwYdTMUXwo9h0P/E9MYaebREKKISDuqrTA8MHcHNw6cycsjJ3P/4NvJqVgO2b2CnbrlKnm1gHpgIiJtoLEqw/FjBnFu+W/I+eQZagpPgVH3QNFFENM/wa2hqyci0kr1qwx/cvEoLug3D967H05+BPIHk3PMj8HuJLvv6HSH22kogYmItEJilWHPrHK+2O9ZTix9BrI3BaXvO1ZD/mDod0y6Q+10lMBERFqhtsowO7aduSO/Qo9YNa9UHE/FmPs5dPQlXXaWjI6gBCYi0hK7K2H17xixfj418c9TFc/n+2u/yvwdo1jng3ntys8oebUzXV0RkebYsRoWfxtmDYZ5X6L7prn8dMIw8rJjPLfzXNb54H3zGEq7Ug9MRKQJtRWGh1T9jV7zLw82DroQDr8RDjid8804aURxo3MdSttTAhMRaUhNBUteuZv736zmtZ0n0x3n0bFfY8Qp/w75xXV2LSzIVeLqYBpCFBGpb9sKmP+vxGcO4uh13+Ez+a+xvXo366vzGf/qeZT7gemOUFAPTESkrgU3wbv/DbFsthZexA3zx/La1mF7mxtdKVk6lBKYiHRtuzbDyofgsK8Ei0MOGAc5hTBsMvE9fVjw8guQMBHvfislS9pEZgjRzC41s2VmFjezkoTtJ5jZ4vC1xMwmpDNOEekkNpfCvMkwcxAsujlY6RiCiXU/9T3ofmDjKyVL2kWpB7YUuBh4MMn2EnffbWYHAUvM7Gl3393hEYpI5tu9E148Fza8At26w9BJbCm6jtXxERRVVCedx7DOSslKXpERmQTm7u8AWL1F29x9Z8LHPMA7MCwR6QwqPwkWiRw8AbJ6QP5QKBoPh36JWe9UMvWBUrJj8xpcLVkVhtEUmQTWGDM7EXgIGAJcpd6XiKRk4zxYcTd8+AfA4OJ1kNMXxv4WqJ3HcB5VNfG9C05OmVHKuGH9lbAyQIcmMDObAwxM0nSru89q6Dh3nwccaWajgIfN7Bl3r0py/snAZIDi4uL6zSLSVWxaAP/4Kmx6E7J6wrDrYcTXg+SVoNHVkpXAIq9DE5i7n9XK498xsx3AUcD8JO3TgekAJSUlGmoU6Up2rIHdO6D3yKCKcE8llNwLh1wF2T2THlJ/tWRQlWEmiUwVYkPM7BAzywrfDwEOB1alNSgRiQZ3+ORFeGUiPDUUFv17sL1gKJxXCiO+Rnl1DkvWbKG8onq/w1VlmNkicw8sLI+/GxgAzDazxe5+DnAK8G0zqyF4GONr7r4xjaGKSBSs+h0suwO2LoOcfjDyZhj+1X3tZvstNJmsQENVhpkrMgnM3WcCM5NsfwR4pOMjEpHI2f4+9CiGbjlQsRJiOXDiQzDkcsiqO+yXuNBkUwUaqjLMTJEfQhSRLs7jsPYv8OJ58PRwKAv/P/eIKXDuAjjsi/slL9hXoJGotkBDOofI9MBEROqI18CKe2DFvUFvK28gfOo2OOC0oD2WDexb6qT+8J8KNDo/JTARiZaqDZA3ACwL3v8fyDsQRt8Bgy8Ohg4TNHaPq7ZAY0q9dg0Vdh7m3jmrzUtKSnz+/P0q7UUkiuK7oWxW8NDx5iUwoQyy8mHXFsjpk/SQ8opqxt31AlU1+3pZedkxXpv6mTpJqqEemiRnZgvcvaTpPdNPPTARSZ+qjbByOrx3P+wsg/whcOQtQXk8NJi8IPWHkFWg0XkpgYlIx9tTBd3yYMcqWHIrDDwreOj44PMh1m3vbo31nnSPS5TARKRj7KkO5iRccQ/0PgpO+hUUlsD4lVBw6H67N/UMl+5xiRKYiLSvnWXw3gPw/nSo3gC9Dof+J+1rT5K8Un2GSw8hd21KYCLS9mrvYZnB2z8JijMGXQAjbgiGC8NlkxoaImzOJLu6x9V1KYGJSNvZvQNWPRYMEx7333DgGcEDxyNvgoJD6uza2BCh7m9JKjQTh4i03vaVsPDfYGYR/ONfwLoFM2gA9Bi0X/JKHCLcXr2bqpo4U2aU7p1wV5PsSirUAxOR1onvgTmfDh5ALr4kGCbsP3bvMGEyqQwR6v6WNEUJTESaZ9dW+OA3sPZpOONZiGXByY9Cr5HQ4+A6u7Z2mifd35LGKIGJSGq2LAvuba16JLjX1f9kqPokGCIc+Jn9dtc0T9LelMBEpGkbXoe/jYNYLgy9AkbcQHnOUZSVV1IUr94v8aRSBq8hQmktJTAR2V/VBlj5v8FsGSO/CYUnwnG/hCFXQF7/sHf1QoMPGWuaJ+kISmAisk/5/GCYcPXvIF4NxZcF22Pd4PAbg11S6F2pDF46gsroRSSw5Hvw3PGw5gk47MtsOWMRS4Y8sLe0vVYqC0WqDF46gnpgIl3VzrXw/oMw5HLofQQUXRisw3XINcx6u4Kp95WSHfukxQ8Z6x6XtDclMJGuxB02vBpM7bTmT8HDxnkDgwRWWAKFJeEQ4esNDhE2p4JQ97ikPSmBiXQV7vC3U2Dj68Sz+7Dx4OvJHvk1+h54RJ3d9JCxZAolMJHOrOIDWDMTRn4rmBlj0AUszr6Qa18czh7rQc2c1Uyb2LtOBaEeMpZMoSIOkc7G4/DxX2HueHhqGCyeCtvfB6B8yDe5/IVPsWVXTtI5CEEFGJI51AMT6Uy2vgMvXwTbV1CTPYCaEd+mxxFfD2bLIPXnszREKJlACUwk0219B6rWBUuX5A/lk/hB/GTthbyw49PsLM1iWhaMHxPs2pznszREKFGnIUSRTBTfA2uehOfPgtlHwPxvgDvlVTFOmz+VJ8pPY1NVTMuUSKemHphIhtn+7mPkLr2FnOo10KMIjv4xHHYdmKmCULqUyPTAzOxSM1tmZnEzK0nSXmxmFWZ2czriE0mrTQuhaj2zFq/lllnLWby5LzeW3crTQ16FI78TPIBM8yoIjx7cR8lLMlqUemBLgYuBBxto/znwTMeFI5Jme3bBmhnBQ8cb32Dn4d9j6pMnU1VzEn/edBIAf/vT24wdPnBvItIyJdKVRCaBufs7AJZkFVczuwj4ANjRsVGJpIE7LL0D3rsvKM4oGAbH/pyVuRPIji1XBaFIKDIJrCFmlg9MBT4LaPhQOid32Po29DkyeOB4y2LodyyMuBEOOhssxsEV1dTE365zmCoIpSvr0ARmZnOAgUmabnX3WQ0c9kPg5+5ekax3Vu/8k4HJAMXFxa0JVaRj7K6E1Y8HS5hsXgSfXwG9hsO430Os7l9PDQ+K1NWhCczdz2rBYScCl5jZNKAPEDezKne/J8n5pwPTAUpKSrw1sYq0h/KKaso2VzK4xw76ffjLYNHIXZug91FwwoPQ4+C9+yQb/tPwoMg+kR9CdPdP1743s9uAimTJSyTqZi0q485Zr1LhfSmwzbxy+D1kFZ0HI26AA04Fs3Cl49IGVzoGDQ+K1IpSGf0EMysDTgZmm9lz6Y5JpE3UbGfHW7/gqMVjuXvQ7Wyv3s3HVT05afnDlB/zKBx4GpjVWem4oXkKRWSfyPTA3H0mMLOJfW7rmGhEWqbO8F98dVAC/8HD5O/ezs74CB4r/xzggFFNzzoVhKnOUygigcgkMJFMN2vxWm6ZsYjcGFTGu/GHMxYxev10KL6MrYMnc+n07VTV7EtO9SsImzNPoYi0cAjRzA4Ih/y+bmZfMrMTzCwyw5EiHW3Tpo9598Xv89xhX+G8/GeoqolzzUuj2PTZ92Hsb+k9+JQm5yDUPIUizdOsHpiZnQF8G+gHLALWA3nARcBhZvYE8FN339bGcYqkXdLqwM2LYcU99PnnY0w5sIq/VxzF6l0HAbDberBmZ0/6FQa7plJBqCpDkdQ1dwjxPOA6d/+wfoOZZQGfJ3jgeEYbxCYSGXWrA/cwbeLRQXXgm1+DzUvYNXgSX3jxWEorhuw9pqWrGKvKUCQ1zUpg7v7vjTQXuvuTrQtHJHpqqwN7ejlX9n6GiX2f5wtP/oJxwyZQeOKvoPtA8nL68pX8tXrIWKQDtaqIw8x6AxOBK4FRwKDGjxCJrqRDhO5sWj2Xnw2axlkFr5IT281L246jMGtnUB04eNTe4zX8J9Kxmp3AzKw7MJ4gaR0L9CS4B/Zym0Ym0oEafIB4x2qGLzmHgfk9eLT8PB4pP59/7hpEXnZMcxCKpFlzizgeA04F/grcA7wAvO/uL7V9aCIdI/EB4sLsdUwq/AtVr22nfNgsCguGwqmzeHn9SKbNXEl2LEZetoYHRaKguT2wo4DNwDvAcnffY2aac1AyQkNzDJZt2sm4glIu7TWLz/aaB8Cc7eMo21QR7Fc0nvOL4KQRQzQ8KBIhzS3iONrMRhIMH84xs/VATzMb6O7r2iVCkTbQ2ByDw7Y8xK8Gf5vy3b14cMPFPFp+HpsYyGv9CuqcQ8ODItHS7Htg7r4c+D7wfTMrAa4A/mFmZe4+tq0DFGmtxCHCKuIckrOWLa8+wLaeX6TXYReRP/xKFm3qxjUvHIJbHjVoiFAkE7SqCtHd5wPzzexmgntjImnR2BIkZZsryY05Y3v+g2v6/5nTei6kxrPY8Mkx9DrsIuh+EMecfhMvljR8DhGJnuYWcXwXuM/dNyVud3cH5prZZ4Ae7v7nNoxROrnGkk8qmlqCpKhvd+4d9D1OKVjIupp+/HTdJP607TyeunBinfNoiFAkszS3B/YW8LSZVQELgQ0EU0kNB8YAc4D/aMsApXNLZf2rxtQfHgSYMqOUUwd8RJ+PfwtjplFY0J3ckZO56e+rmLvjFCrjmmNQpDNobhHHLGCWmQ0HxgEHAduAR4HJ7l7Z9iFKZ9VQ8hk3rP9+yaXBCsKEJUiy2M05vd/gSwNm02fuUujWHYovgwNO4fhT/4VDj63mixoiFOk0WnQPzN3fA95r41iki0l1/avGemm1S5AMyNrMU8Nu4qCcctbsGsiOI+4kf9R1kNtv73k0RCjSuWgJFEmbVNa/anCV4u1VsHEehesfZ9rE0Wy3fry0YyzXr/kBi46eR/6YqXWSl4h0PlrQUtKmdv2rxibArd9Ly7VdTOzzGt1fvBUqFkH3gxh/4STGDTuTss1jOVvDgyJdhhKYpFVTE+Am9tI+2+vv3Fn0SwqztrHbRsHx98HQ/wexbAoLUOIS6WJaMplvHsG6X58GDgYqgaXAbHdf1rbhSVfQ4L0pdwp3vM795+fw1dm72OBFLKw8kvyjbmLs2EvBrOODFZHIaO5zYLcBFwAvAfPYtyLzCODOMLn9m7uXtm2Y0qXUVMCqR2HFPbB1GWcc+iVem3pf2Eu7Vj0tEQGa3wN7091va6DtZ2Z2AFDcupCkS3vrh7D8Z1CzDfoeAyc+BEMupzBLFYQiUldznwOb3UT7eoJemchejc604XFY9zwMPBMsBr4HDj4fRtwA/U/WMKGINKi5Q4hPAw0un+Lu41sdkXQqDT7DtWsLfPBrWHEvVKyE0/8CB38ORt+e7pBFJEM0dwjxv9olCumUks20cfvMNzh7x3Pklf0f7NkJA8bB0T+GA89Mc7QikmmaO4Q4t70CkczU1Czw2bEYNdQwNPcjVlYPZjc9YP1cGHoFDP869DsmTZGLSKZryRDidOBZd6+p13YocC2wyt0farMIJbKamoh3cI/tfKnv41zWZzbZtpuxy39NVTyXHWcuIq9XfhojF5HOoLlTSV1H8PzXcjN708z+YmYvmNkHwIPAgpYmLzO71MyWmVk8XCizdvtQM6s0s8Xh64GWnF/aVoNTPFVUw9Z34PWr6fe3YXzzgIf5564ifrT+X8nOygpm2lDyEpE20NwhxHXAFGCKmQ0lmI2+Eljh7jtbGctS4GKCRFjfSncf08rzSwukMgs8QI7V0C9rTzARb846KJsJh10HI77OyG6H8uXNlfxA0zyJSBtq8VRS7r4KWNVWgbj7OwCmsunISGUW+IHZG5nU7xmuKHyW2dtOp6jv5yH/dJiwFrJ7AVCIpnkSkbbXogRmZhOBO4EDAAtf7u692jC2RIeY2SKCtce+6+6vtNP3SKiptboKd/6DF064hwO2PUsM58WKExl2zKR9iSq7vf4oiIgEWtoDuwu4oLbXlCozmwMMTNJ0a7hYZjIfA8XuXm5mxwFPmtmR7r4tyfknA5MBios1IUhrJFurq6Bbzb61uj74NQdXv0HlsJtY1e9qxhw0Ur0sEelQLU1gnzQ3eQG4+1ktOKYaqA7fLzCzlQRzL85Psu90gipJSkpKGnzgWpqWOAt8cc7HXFU4my/0m4Pbc8BYGHMnlNxD96wejEpvqCLSRbU0gc03s98DTxImFwB3/1NbBJXIzAYAm9x9T1iqPxz4oK2/R+oqzM/m1+eUU73sl5xaMJ89xFjf+3wG9ewT7JB3QFrjExFpaQLrBewEzk7Y5kCLE5iZTQDuBgYAs81ssbufA5wK3G5mu4E9wPXuvqml3yP7JK0w9HgwJ+GeSk7++Abi/fNYf+C/kzPyegb1PyS9AYuIJGhRAnP3L9bfZmY3tSYQd58JzEyyfQYwozXnlv3VrzC8//xczoj9ETYtgHPmQVY+nPkCsd5HMbBbTrrDFRHZT1uuyPwt4BdteD5pJ7UVhjU1NZzWax7X9P8zYz8oxWO52NArYfcOyC6AfsemO1QRkQY1dyaOxugBrgxRW2F4du83eHDof1Cc8zE/3/Allp2wDE56KEheIiIR15Y9MFX9Rcx+97g2LYB372ZYjyOoiX+KOdtO5LpV3+WFbceTnZ3N1QcUpTtkEZGUNXcy3+0kT1QGdG+TiKRN1N7j6h7bw5kFL/OdYc/Tr3IhZBWQP+owpk0czZQZpfy9+hSys4NZNvQcl4hkkubOhdizvQKRtpM4i8Zdg/+LC/vO5Z9bBpF73M/IH/VlyO7FeGDcsP4Nr5QsIhJxbTmEKOnmDhtepdvinzMk50LerenPrzZeyBObz2RJTQmPnHUyRydM8VRYkKvEJSIZSwmsM9i9E1Y9BivugS2l9Mruw9Cco3l3R39KK0cAkJcdzK4hItJZKIFluj1V8NShUPUJ9BkNJ/wPsaFXcv7SzcytN5O8elsi0pkogWUaj8O6ObB+Lhz9Y+iWB0feCn3HwIBTIFyOZvyYHrrHJSKdmhJYpqjZBh88HAwTbl8BeQfCyG9BbiEcfmPSQ3SPS0Q6MyWwTPDJizB3POyugMKT4ORHKe93AWXr4xT1rVaSEpEuSQksiuJ7YO3TwfDgwedC32NhyGUw7HooLAme8XrotaQrJYuIdBVKYFFSXQ4r/xdW3Ac7P4SDzwsSWE5vOPF/gaZXShYR6SqUwKJi2X/C0tuDqsIDz2D7EdP4IO9MiirqDhEmWyk5Oxbbt1KyiEgXoQSWLnt2wZoZYQ+rL+QfAodcCyO+zqxVfZn6SCnZsQX7DREmrpRcqyYe1zNeItLltOVs9JKKnR9B6W0wawi8fiWs/n2wfejlcML9lGcN3ztEuL16N1U1cabMKKW8Ilj4urAgl2kTR5OXHaNnbhZ52TE94yUiXZJ6YB0lXgNvXAMf/hF8Dxx0blD+ftA5dXZLZYhw/JhBesZLRLo8JbD2tLsSNr4BAz8DsewgiR3+DRj+Veg5LOkhqQ4R6hkvEenqlMDaQ8UqeO8+WPmr4AHkiz6E7gfBp//Y5KG1Q4RTNA2UiEijlMDa0rZ3YdGU4Bkui0HRBBhxA+QNbNZpNEQoItI0JbDWqtkG1Ruh4FDo1h02vQlHfgeG/QvkD27xaTVEKCLSOCWwltq6HN67Fz74DQwYB2c8C/nFcOEaiHVLd3QiIp2eElhzrXse3r4L1v0NYjlQfFkwTFhLyUtEpEMogaWiuhyyekK3HNi0ALa+DaPvgGHXQd4B6Y5ORKRL0oPMjdm8GOZ9BZ4sCp7fAhhxI1y4Co66VclLRCSN1AOrz+NBslpxN2x4Dbr1gEOuhn7HBe1ZmrJJRCQKlMD2Y7D0DthTCcf+DA69NpirUEREIiUyCczMLgVuA0YBJ7j7/IS20cCDQC8gDhzv7lXtFAic8Qx0Pzh4lktERCIpMgkMWApcTJCo9jKzLOBR4Cp3X2JmhUBNu0bSo6hdTy8iIq0XmQTm7u8AmFn9prOBUndfEu5X3sGhiYhIBGXCGNkIwM3sOTNbaGZT0h2QiIikX4f2wMxsDpBsYsBb3X1WA4dlAacAxwM7gefNbIG7P5/k/JOByQDFxcVtE7SIiERShyYwdz+rBYeVAXPdfSOAmf0FOBbYL4G5+3RgOkBJSYm3IlQREYm4TBhCfA4YbWY9woKO04C30xyTiIikWWQSmJlNMLMy4GRgtpk9B+Dum4GfAW8Ci4GF7j47bYGmoLyimiVrtlBeUZ3uUEREOq0oVSHOBGY20PYoQSl95M1avJap9RajHD9m0H77lVdUa70vEZFWiEwC6wzKK6qZOqOUqpo4VcQBmDKjlHHD+tdJUqkmORERaVhkhhA7g7LNlWTH6l7S7FiMss2Vez8nJrnt1bupqokzZUaphhtFRJpJCawNFfXtTk08XmdbTTxOUd99EwCnkuRERKRpSmBtqLAgl2kTR5OXHaNnbhZ52TGmTRxdZ/gwlSQnIiJN0z2wNjZ+zCDGDevfYIFGbZKbUu8emAo5RESaRwmsHRQW5DaakJpKciIi0jQlsDRpKsmJiEjjdA9MREQykhKYiIhkJCUwERHJSEpgIiKSkZTAREQkIymBiYhIRlICExGRjKQEJiIiGUkJrAW0YKWISPppJo5m0lpeIiLRoB5YM2gtLxGR6FACawat5SUiEh1KYM2gtbxERKJDCawZUlmwUkREOoaKOJpJa3mJiESDElgLaC0vEZH00xCiiIhkJCUwERHJSEpgIiKSkZTAREQkI0UmgZnZpWa2zMziZlaSsH2SmS1OeMXNbEwaQxURkQiITAIDlgIXAy8nbnT3x9x9jLuPAa4CVrn74o4PT0REoiQyZfTu/g6AmTW22xXA4x0SkIiIRFpkEliKLgMuTHcQIiKSfh2awMxsDjAwSdOt7j6riWNPBHa6+9JG9pkMTAYoLi5uTagiIhJxHZrA3P2sVhx+OU0MH7r7dGA6QElJibfiu0REJOIyYgjRzGLApcCp6Y5FRESiITJViGY2wczKgJOB2Wb2XELzqUCZu3+QnuhERCRqItMDc/eZwMwG2l4CTurQgEREJNIi0wMTERFpDiUwERHJSEpgIiKSkZTAREQkIymBiYhIRlICExGRjKQEJiIiGUkJTEREMpISWD3lFdUsWbOF8orqdIciIiKNiMxMHFEwa/Faps4oJTsWoyYeZ9rE0YwfMyjdYYmISBLqgYXKK6qZOqOUqpo426t3U1UTZ8qMUvXEREQiSgksVLa5kuxY3cuRHYtRtrkyTRGJiEhjlMBCRX27UxOP19lWE49T1Ld7miISEZHGKIGFCgtymTZxNHnZMXrmZpGXHWPaxNEUFuSmOzQREUlCRRwJxo8ZxLhh/SnbXElR3+5KXiIiEaYEVk9hQa4Sl4hIBtAQooiIZCQlMBERyUhKYCIikpGUwEREJCMpgYmISEYyd093DO3CzDYAqxto7g9s7MBwWkpxtr1MiVVxtq1MiRPSH+sQdx+Qxu9PWadNYI0xs/nuXpLuOJqiONtepsSqONtWpsQJmRVrumkIUUREMpISmIiIZKSumsCmpzuAFCnOtpcpsSrOtpUpcUJmxZpWXfIemIiIZL6u2gMTEZEM1+USmJndbGZuZv0Ttt1iZu+b2btmdk464wvj+ZGZlZrZYjP7q5kdHG4famaV4fbFZvZAFOMM2yJzTc3sJ2a2PIx1ppn1CbdH7XomjTNsi8z1DOO51MyWmVnczEoStkftmiaNM2yL1DWtZWa3mdnahGt4Xrpjiix37zIvYDDwHMHzYf3DbUcAS4Bc4BBgJdAtzXH2Snj/DeCB8P1QYGm6r2MKcUbqmgJnA1nh+7uAuyJ6PRuKM1LXM4xpFHA48BJQkrA9ate0oTgjd00TYrsNuDndcWTCq6v1wH4OTAESb/xdCPzO3avd/Z/A+8AJ6QiulrtvS/iYT914I6OROCN1Td39r+6+O/z4d6AoXbE0ppE4I3U9Adz9HXd/N50xpKKROCN3TaX5ukwCM7PxwFp3X1KvaRCwJuFzWbgtrczsx2a2BpgEfD+h6RAzW2Rmc83s02kKb68G4ozkNQ19CXgm4XOkrmeCxDijfD2Tieo1TRT1a3pDOJT8kJn1TXcwUdWpFrQ0sznAwCRNtwLfIRii2e+wJNvavcfTWKzuPsvdbwVuNbNbgBuAHwAfA8XuXm5mxwFPmtmR9XpCUYizw69pU3GG+9wK7AYeC9sidz0biDOSf0YbOCyS1zTZYUm2ddhIRxP/Vt0P/CiM50fATwn+h0bq6VQJzN3PSrbdzD5FMM69xMwgGJpZaGYnEPyf1+CE3YuAj9o51AZjTeL/gNnAD9y9GqgOj19gZiuBEcD89omyZXGShmvaVJxmdg3weeBMD280RPF6JouT6P8ZTTwmcte0AWm5prVSjdnM/gf4czuHk7G6xBCiu7/l7ge4+1B3H0rwh/dYd18HPAVcbma5ZnYIMBz4RxrDxcyGJ3wcDywPtw8ws27h+0MJYv2g4yMMNBQnEbumZnYuMBUY7+47E7ZH7XomjZOIXc/GRO2aNiKy19TMDkr4OAFYmq5Yoq5T9cBawt2XmdkfgLcJhm2+7u570hzWnWZ2OBAnqJi8Ptx+KnC7me0G9gDXu/umNMUIDcQZwWt6D0G12d/CHvjf3f16onc9k8YZweuJmU0A7gYGALPNbLG7n0PErmlDcUbxmiaYZmZjCIYQVwH/ktZoIkwzcYiISEbqEkOIIiLS+SiBiYhIRlICExGRjKQEJiIiGUkJTEREMpISmEjIzCo68LtuM7Obw/fXWsJM/u34nd3D6Z26mdk/w0cgEtt/YWZTzOxTZvab9o5HpLWUwKRLqX3INmKuBdo9gRFMR/Sn8Hmn3wGX1zaYWQy4BPi9u78FFJlZcQfEJNJiSmDSKYTrUC03s4fDSVCfMLMeYdsqM/u+mb0KXGpmV5jZW2a21Mzuqneen5rZQjN73swGhNsOM7NnzWyBmb1iZiPrHRMLv6NPwrb3zexAMxsSnqs0/Flc79hLgBLgMQvWfuoexvpmGN90C59qNrPjw/O8YcHaYUvD7d3Cz2+G7Q09+DoJqJ0b8HESEhjBA8ir3H11+Pnpeu0ikaMEJp3J4cB0dx8NbAO+ltBW5e6nAC8TrLX1GWAMcLyZXRTukw8sdPdjgbkE8zoCTAdudPfjgJuB+xK/1N3jBIlhAoCZnUiQDD4hmF3jt2FMjwG/rHfsEwTzBE5y9zHuXgnc4+7Hu/tRQHeCuREBfk0ws8XJBLNc1PoysNXdjweOB64Lp0fay8xygEPdfVX4vaVA3MyODne5nCCp1ZoPRHUmeRFACUw6lzXu/lr4/lHglIS234c/jwdecvcN4dpbjxH0PiCYEuv3icebWQEwFvijmS0GHgQS56pLPP9l4fvLE85zMsFExwCP1IupIWeY2Twze4sg0R4Z9u56uvvr4T7/l7D/2cDVYXzzgEKCuf0S9Qe21Nv2OMF8gFkE62P9MaFtPR0zrCnSYl1+LkTpVOrPi5b4eUf4M9kyGo2dLwZscfcxTez7BjAsHHa8CLgjxRjrMLM8gh5eibuvMbPbgDwaj9sIeojPNbJPZXieRI8DfyXobZa6+/qEtrzwGJHIUg9MOpNiMzs5fH8F8GqSfeYBp5lZ/7Cg4wqCf8Ah+PtwSfj+SuDVcB2rf5rZpQAWOLr+ScOlT2YCPwPecffysOl19t1LmtRATNuBnuH72iSzMez9XRKefzOw3cxOCtsT7089B3zVzLLDGEeYWX69+DYD3cIEWbttJVAO3End4UMIlkDRLOgSaUpg0pm8A1xjZqVAP4KFAetw94+BW4AXgSUE97xqCxt2EAzXLSAYurs93D4J+LKZLQGWEQy3JfN74P+xb/gQ4BvAF8OYrgL+NclxvwEeCIcAq4H/Ad4CngTeTNjvy8B0M3uDoNe1Ndz+vwSzqi8MCzseJPnoyl/ZfwjzcWAkQfJNdAbB+m4ikaXZ6KVTMLOhwJ/DwodOycwK3L0ifP9t4CB3T5YQGzr+GOBb7n5VE/vlEvRKTwnvE4pEku6BiWSO883sFoK/t6sJnh9LmbsvMrMXzaxbE2tfFQPfVvKSqFMPTEREMpLugYmISEZSAhMRkYykBCYiIhlJCUxERDLS/wd0Qu4vxhyMQwAAAABJRU5ErkJggg==' width=432.0/>\n",
       "            </div>\n",
       "        "
      ],
      "text/plain": [
       "Canvas(toolbar=Toolbar(toolitems=[('Home', 'Reset original view', 'home', 'home'), ('Back', 'Back to previous …"
      ]
     },
     "metadata": {},
     "output_type": "display_data"
    }
   ],
   "source": [
    "path = os.getcwd()\n",
    "txt_files = glob.glob(os.path.join(path, \"*.txt\"))\n",
    "argon_data_frames = {}\n",
    "helium_data_frames = {}\n",
    "\n",
    "def creation_dict_dataframes(txt_files):\n",
    "    i = 0\n",
    "    for file in txt_files: \n",
    "        df = pd.read_csv(file)\n",
    "        df = df.drop(columns='Unnamed: 5')\n",
    "        df = df.dropna(axis =0)\n",
    "        df_columns = df.keys()\n",
    "        df = df.astype('float64')\n",
    "\n",
    "        if \"Helium\" in file: \n",
    "            helium_data_frames[file] =  df\n",
    "        else: \n",
    "            argon_data_frames[file]= df\n",
    "        i += 1\n",
    "        \n",
    "    return argon_data_frames, helium_data_frames\n",
    "\n",
    "argon_data_frames, helium_data_frames = creation_dict_dataframes(txt_files)\n",
    "\n",
    "#/Users/denissecordovacarrizales/Documents/Physics_191/Plasma/Data/IR/Helium1000V845mT-60-0range1step.txt\n",
    "#There are only two files with good data. This file is the best one.  \n",
    "\n",
    "\n",
    "m_e = 9.10938356 * 10**(-31)\n",
    "m_i = (6.6335209 * 10**(-26)) - (9.10938356 * 10**(-31)) #neutral minus electron\n",
    "k = 8.617333262145 * 10**(-5) #electronvolts The k constant actually doesn't matter that much because it gets cancelled out in line 66\n",
    "e = 1.60217662 * 10**(-19) #charge of electron in coloumbs\n",
    "c = 299792458\n",
    "\n",
    "def exponential(V_bias, V_plasma, T_e):\n",
    "    \"\"\" \n",
    "    function we are trying to fit to\n",
    "    \"\"\"\n",
    "    I_electron = np.exp(-e*(V_plasma - V_bias)/(k*T_e))\n",
    "    return I_electron                                                                                                                          \n",
    "\n",
    "def calculation_ln_I(dict_gas_dataframes):\n",
    "    for key in dict_gas_dataframes: \n",
    "        ln_I_list = []\n",
    "        for index, row in dict_gas_dataframes[key][' probe current (A)'].iteritems():\n",
    "            if row > 0: \n",
    "                ln_I_list.append(np.log(row))\n",
    "            else: \n",
    "                ln_I_list.append(0)\n",
    "        dict_gas_dataframes[key][\"Ln(I)\"] = ln_I_list\n",
    "        \n",
    "    return dict_gas_dataframes\n",
    "\n",
    "\n",
    "\n",
    "def line(x, m, b):\n",
    "    return m*x + b\n",
    "\n",
    "        \n",
    "def plots(dict_gas_dataframe):  \n",
    "    i = 0\n",
    "    for df in dict_gas_dataframe:\n",
    "        \n",
    "        if i in [23, 25]:\n",
    "            print(df)\n",
    "            df = dict_gas_dataframe[df]\n",
    "            df_columns = df.keys()\n",
    "            fig = plt.figure()\n",
    "            ax = fig.add_subplot(111)\n",
    "\n",
    "                #df.plot(df_columns[0], df_columns[1],  title = str(df) + str(i) , ax =ax)\n",
    "            df.drop(df.index[df['Ln(I)'] == 0], inplace=True)\n",
    "\n",
    "            df.plot.scatter(df_columns[0], df_columns[5],  title = str(df), ax =ax)\n",
    "            \n",
    "            \n",
    "            #print(df[df_columns[0]].iloc[8:])\n",
    "            #print(df[df_columns[5]].iloc[8:])\n",
    "            \n",
    "            popt, pcov = curve_fit(line, df[df_columns[0]].iloc[8:], df[df_columns[5]].iloc[8:])\n",
    "            \n",
    "            \n",
    "            plt.plot(df[df_columns[0]], line(df[df_columns[0]], *popt), '--',c='orange')\n",
    "            plt.errorbar()\n",
    "            plt.ylabel(\"Ln(I) (A)\")\n",
    "            electron_temperature = 1/popt[0]\n",
    "            \n",
    "            #plt.savefig(\"helium electron temperature ln(I) vs V\")\n",
    "            #print(\"Helium Electron Temperature:\", str(electron_temperature), \" eV\")\n",
    "            \n",
    "            #print(popt)\n",
    "\n",
    "            #plt.plot(x, m*x + b)\n",
    "            #df_derivative = df.diff(periods = 19)\n",
    "            #df[\"dln(I)\"] = df_derivative[df_columns[5]]\n",
    "            #df[\"dV\"] = df_derivative[df_columns[0]]\n",
    "\n",
    "            #df.plot.scatter(\"dln(I)\", \"dV\", ax =ax)\n",
    "                #print(df)\n",
    "\n",
    "            #df[\"Mean dV\"] = df[\"dV\"].mean()\n",
    "            #df.plot( \"dln(I)\" , \"Mean dV\", ax =ax , color = \"green\")\n",
    "\n",
    "            #electron_temp =  df[\"Mean dV\"].iloc[0]/(k)\n",
    "\n",
    "            #print(electron_temp)\n",
    "            #print(df[\"Mean dV\"])\n",
    "            #plt.ylabel(\"Probe Current (A)\")\n",
    "            #plt.xlabel(\"Probe Voltage (V)\")\n",
    "        \n",
    "        i += 1 \n",
    "    \n",
    "\n",
    "\n",
    "\n",
    "helium_data_frames = calculation_ln_I(helium_data_frames)\n",
    "plots(helium_data_frames)  \n",
    "\n",
    "#current in the systema at zero voltage should be the I0\n",
    "#I = I0 e^(-V/kT)\n"
   ]
  },
  {
   "cell_type": "markdown",
   "metadata": {},
   "source": [
    "## "
   ]
  },
  {
   "cell_type": "code",
   "execution_count": 5,
   "metadata": {},
   "outputs": [
    {
     "ename": "NameError",
     "evalue": "name 'data_frames' is not defined",
     "output_type": "error",
     "traceback": [
      "\u001b[0;31m---------------------------------------------------------------------------\u001b[0m",
      "\u001b[0;31mNameError\u001b[0m                                 Traceback (most recent call last)",
      "\u001b[0;32m<ipython-input-5-5f5e73466d26>\u001b[0m in \u001b[0;36m<module>\u001b[0;34m\u001b[0m\n\u001b[1;32m      1\u001b[0m \u001b[0;32mimport\u001b[0m \u001b[0mmatplotlib\u001b[0m\u001b[0;34m.\u001b[0m\u001b[0mpyplot\u001b[0m \u001b[0;32mas\u001b[0m \u001b[0mplt\u001b[0m\u001b[0;34m\u001b[0m\u001b[0;34m\u001b[0m\u001b[0m\n\u001b[0;32m----> 2\u001b[0;31m \u001b[0;32mfor\u001b[0m \u001b[0mi\u001b[0m \u001b[0;32min\u001b[0m \u001b[0mrange\u001b[0m\u001b[0;34m(\u001b[0m\u001b[0mlen\u001b[0m\u001b[0;34m(\u001b[0m\u001b[0mdata_frames\u001b[0m\u001b[0;34m)\u001b[0m\u001b[0;34m)\u001b[0m\u001b[0;34m:\u001b[0m\u001b[0;34m\u001b[0m\u001b[0;34m\u001b[0m\u001b[0m\n\u001b[0m\u001b[1;32m      3\u001b[0m \u001b[0;31m#     print(type(i))\u001b[0m\u001b[0;34m\u001b[0m\u001b[0;34m\u001b[0m\u001b[0;34m\u001b[0m\u001b[0m\n\u001b[1;32m      4\u001b[0m \u001b[0;31m#     print(i.keys())\u001b[0m\u001b[0;34m\u001b[0m\u001b[0;34m\u001b[0m\u001b[0;34m\u001b[0m\u001b[0m\n\u001b[1;32m      5\u001b[0m     \u001b[0mprobe_voltage\u001b[0m \u001b[0;34m=\u001b[0m \u001b[0mdata_frames\u001b[0m\u001b[0;34m[\u001b[0m\u001b[0mi\u001b[0m\u001b[0;34m]\u001b[0m\u001b[0;34m[\u001b[0m\u001b[0;34m'probe voltage (V)'\u001b[0m\u001b[0;34m]\u001b[0m\u001b[0;34m\u001b[0m\u001b[0;34m\u001b[0m\u001b[0m\n",
      "\u001b[0;31mNameError\u001b[0m: name 'data_frames' is not defined"
     ]
    }
   ],
   "source": [
    "import matplotlib.pyplot as plt\n",
    "for i in range(len(data_frames)):\n",
    "#     print(type(i))\n",
    "#     print(i.keys())\n",
    "    probe_voltage = data_frames[i]['probe voltage (V)']\n",
    "    probe_current = data_frames[i][' probe current (A)']\n",
    "    plt.plot(probe_voltage, probe_current)\n",
    "    "
   ]
  },
  {
   "cell_type": "code",
   "execution_count": null,
   "metadata": {},
   "outputs": [],
   "source": [
    "len(data_frames[0])"
   ]
  },
  {
   "cell_type": "code",
   "execution_count": null,
   "metadata": {},
   "outputs": [],
   "source": [
    "data_frames[0][' probe current (A)']"
   ]
  },
  {
   "cell_type": "code",
   "execution_count": null,
   "metadata": {},
   "outputs": [],
   "source": []
  }
 ],
 "metadata": {
  "kernelspec": {
   "display_name": "Python 3",
   "language": "python",
   "name": "python3"
  },
  "language_info": {
   "codemirror_mode": {
    "name": "ipython",
    "version": 3
   },
   "file_extension": ".py",
   "mimetype": "text/x-python",
   "name": "python",
   "nbconvert_exporter": "python",
   "pygments_lexer": "ipython3",
   "version": "3.8.8"
  }
 },
 "nbformat": 4,
 "nbformat_minor": 4
}
