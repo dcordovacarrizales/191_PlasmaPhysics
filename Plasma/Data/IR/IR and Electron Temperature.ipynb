{
 "cells": [
  {
   "cell_type": "code",
   "execution_count": 1,
   "metadata": {},
   "outputs": [],
   "source": [
    "import matplotlib.pyplot as plt\n",
    "import numpy as np \n",
    "import pandas as pd\n",
    "import scipy\n",
    "from scipy.optimize import curve_fit\n",
    "import glob\n",
    "import os\n",
    "%matplotlib inline"
   ]
  },
  {
   "cell_type": "code",
   "execution_count": 2,
   "metadata": {},
   "outputs": [],
   "source": [
    "#pip install tabulate"
   ]
  },
  {
   "cell_type": "code",
   "execution_count": 6,
   "metadata": {},
   "outputs": [],
   "source": [
    "#IV_array = helium_data_frames[\"/Users/denissecordovacarrizales/Documents/Physics_191/Plasma/Data/IR/Helium1000V845mT-60-0range1step.txt\"][df_columns[0:2]].to_numpy()\n",
    "#current in first column. voltage in second column\n",
    "\n",
    "#shape = int(np.shape(IV_array)[0])\n",
    "\n",
    "#current_min = shape - shape%6 # the positive current starts in the last sixth of the array. we can only use positive current because the logarithm input in line 68 cannot be negative\n",
    "#current_max = shape \n",
    "\n",
    "\n",
    "\n",
    "#linear_current_array = np.log(IV_array[current_min: current_max,1])#according to Wissel paper \n",
    "\n",
    "\n",
    "#linear_ansatz_T_e = np.gradient(linear_current_array, 1) * 1/k #according to Wissel paper \n",
    "#linear_ansatz_T_e = np.average(linear_ansatz_T_e) #guess of the electron temperature. just approximating to first order with an average \n",
    "\n",
    "\n",
    "#print(linear_ansatz_T_e)\n",
    "##V_float_ansatz = -40 #the voltage where the current turns positive. found it by eye\n",
    "#V_plasma_ansatz = V_float_ansatz + (k*linear_ansatz_T_e/2)*np.log(2*m_i/(np.pi*m_e)) #from Wissel paper \n",
    "#fit = scipy.optimize.curve_fit(exponential, helium_data_frames[\"/Users/denissecordovacarrizales/Documents/Physics_191/Plasma/Data/IR/Helium1000V845mT-60-0range1step.txt\"][df_columns[0]], helium_data_frames[\"/Users/denissecordovacarrizales/Documents/Physics_191/Plasma/Data/IR/Helium1000V845mT-60-0range1step.txt\"][df_columns[1]] , [V_plasma_ansatz, linear_ansatz_T_e ])\n",
    "#print(fit)\n",
    "\n",
    "#plt.plot(fit, IV_array[:, 1])\n",
    "#print(\"hello\")"
   ]
  },
  {
   "cell_type": "code",
   "execution_count": 90,
   "metadata": {},
   "outputs": [
    {
     "data": {
      "image/png": "[encoded data removed]",
      "text/plain": [
       "<Figure size 432x288 with 1 Axes>"
      ]
     },
     "metadata": {
      "needs_background": "light"
     },
     "output_type": "display_data"
    },
    {
     "data": {
      "image/png": "[encoded data removed]",
      "text/plain": [
       "<Figure size 432x288 with 1 Axes>"
      ]
     },
     "metadata": {
      "needs_background": "light"
     },
     "output_type": "display_data"
    }
   ],
   "source": [
    "path = os.getcwd()\n",
    "txt_files = glob.glob(os.path.join(path, \"*.txt\"))\n",
    "argon_data_frames = {}\n",
    "helium_data_frames = {}\n",
    "\n",
    "def creation_dict_dataframes(txt_files):\n",
    "    i = 0\n",
    "    for file in txt_files: \n",
    "        df = pd.read_csv(file)\n",
    "        df = df.drop(columns='Unnamed: 5')\n",
    "        df = df.dropna(axis =0)\n",
    "        df_columns = df.keys()\n",
    "        df = df.astype('float64')\n",
    "\n",
    "        if \"Helium\" in file: \n",
    "            helium_data_frames[file] =  df\n",
    "        else: \n",
    "            argon_data_frames[file]= df\n",
    "        i += 1\n",
    "        \n",
    "    return argon_data_frames, helium_data_frames\n",
    "\n",
    "argon_data_frames, helium_data_frames = creation_dict_dataframes(txt_files)\n",
    "\n",
    "#/Users/denissecordovacarrizales/Documents/Physics_191/Plasma/Data/IR/Helium1000V845mT-60-0range1step.txt\n",
    "#There are only two files with good data. This file is the best one.  \n",
    "\n",
    "\n",
    "m_e = 9.10938356 * 10**(-31)\n",
    "m_i = (6.6335209 * 10**(-26)) - (9.10938356 * 10**(-31)) #neutral minus electron\n",
    "k = 8.617333262145 * 10**(-5) #electronvolts The k constant actually doesn't matter that much because it gets cancelled out in line 66\n",
    "e = 1.60217662 * 10**(-19) #charge of electron in coloumbs\n",
    "c = 299792458\n",
    "\n",
    "def exponential(V_bias, V_plasma, T_e):\n",
    "    \"\"\" \n",
    "    function we are trying to fit to\n",
    "    \"\"\"\n",
    "    I_electron = np.exp(-e*(V_plasma - V_bias)/(k*T_e))\n",
    "    return I_electron                                                                                                                          \n",
    "\n",
    "def calculation_ln_I(dict_gas_dataframes):\n",
    "    for key in dict_gas_dataframes: \n",
    "        ln_I_list = []\n",
    "        for index, row in dict_gas_dataframes[key][' probe current (A)'].iteritems():\n",
    "            if row > 0: \n",
    "                ln_I_list.append(np.log(row))\n",
    "            else: \n",
    "                ln_I_list.append(0)\n",
    "        dict_gas_dataframes[key][\"Ln(I)\"] = ln_I_list\n",
    "        \n",
    "    return dict_gas_dataframes\n",
    "\n",
    "\n",
    "\n",
    "        \n",
    "def plots(dict_gas_dataframe):  \n",
    "    i = 0\n",
    "    for df in dict_gas_dataframe:\n",
    "        \n",
    "        if i in [23, 25]:\n",
    "            #print(df)\n",
    "            df = dict_gas_dataframe[df]\n",
    "            df_columns = df.keys()\n",
    "            fig = plt.figure()\n",
    "            ax = fig.add_subplot(111)\n",
    "\n",
    "                #df.plot(df_columns[0], df_columns[1],  title = str(df) + str(i) , ax =ax)\n",
    "            df.drop(df.index[df['Ln(I)'] == 0], inplace=True)\n",
    "\n",
    "                #df.plot.scatter(df_columns[0], df_columns[5],  title = str(df), ax =ax)\n",
    "\n",
    "            df_derivative = df.diff(periods = 1 )\n",
    "            df[\"dln(I)\"] = df_derivative[df_columns[5]]\n",
    "            df[\"dV\"] = df_derivative[df_columns[0]]\n",
    "\n",
    "            df.plot.scatter(\"dln(I)\", \"dV\", ax =ax)\n",
    "                #print(df)\n",
    "\n",
    "            df[\"Mean dV\"] = df[\"dV\"].mean()\n",
    "            df.plot( \"dln(I)\" , \"Mean dV\", ax =ax , color = \"green\")\n",
    "\n",
    "            electron_temp =  df[\"Mean dV\"].iloc[0]/(k)\n",
    "\n",
    "            #print(electron_temp)\n",
    "            #print(df[\"Mean dV\"])\n",
    "            #plt.ylabel(\"Probe Current (A)\")\n",
    "            #plt.xlabel(\"Probe Voltage (V)\")\n",
    "        \n",
    "        i += 1 \n",
    "    \n",
    "\n",
    "#OMG i think i just fixed \n",
    "    \n",
    "helium_data_frames = calculation_ln_I(helium_data_frames)\n",
    "plots(helium_data_frames)  \n",
    "\n",
    "\n"
   ]
  },
  {
   "cell_type": "markdown",
   "metadata": {},
   "source": [
    "## "
   ]
  },
  {
   "cell_type": "code",
   "execution_count": 5,
   "metadata": {},
   "outputs": [
    {
     "ename": "NameError",
     "evalue": "name 'data_frames' is not defined",
     "output_type": "error",
     "traceback": [
      "\u001b[0;31m---------------------------------------------------------------------------\u001b[0m",
      "\u001b[0;31mNameError\u001b[0m                                 Traceback (most recent call last)",
      "\u001b[0;32m<ipython-input-5-5f5e73466d26>\u001b[0m in \u001b[0;36m<module>\u001b[0;34m\u001b[0m\n\u001b[1;32m      1\u001b[0m \u001b[0;32mimport\u001b[0m \u001b[0mmatplotlib\u001b[0m\u001b[0;34m.\u001b[0m\u001b[0mpyplot\u001b[0m \u001b[0;32mas\u001b[0m \u001b[0mplt\u001b[0m\u001b[0;34m\u001b[0m\u001b[0;34m\u001b[0m\u001b[0m\n\u001b[0;32m----> 2\u001b[0;31m \u001b[0;32mfor\u001b[0m \u001b[0mi\u001b[0m \u001b[0;32min\u001b[0m \u001b[0mrange\u001b[0m\u001b[0;34m(\u001b[0m\u001b[0mlen\u001b[0m\u001b[0;34m(\u001b[0m\u001b[0mdata_frames\u001b[0m\u001b[0;34m)\u001b[0m\u001b[0;34m)\u001b[0m\u001b[0;34m:\u001b[0m\u001b[0;34m\u001b[0m\u001b[0;34m\u001b[0m\u001b[0m\n\u001b[0m\u001b[1;32m      3\u001b[0m \u001b[0;31m#     print(type(i))\u001b[0m\u001b[0;34m\u001b[0m\u001b[0;34m\u001b[0m\u001b[0;34m\u001b[0m\u001b[0m\n\u001b[1;32m      4\u001b[0m \u001b[0;31m#     print(i.keys())\u001b[0m\u001b[0;34m\u001b[0m\u001b[0;34m\u001b[0m\u001b[0;34m\u001b[0m\u001b[0m\n\u001b[1;32m      5\u001b[0m     \u001b[0mprobe_voltage\u001b[0m \u001b[0;34m=\u001b[0m \u001b[0mdata_frames\u001b[0m\u001b[0;34m[\u001b[0m\u001b[0mi\u001b[0m\u001b[0;34m]\u001b[0m\u001b[0;34m[\u001b[0m\u001b[0;34m'probe voltage (V)'\u001b[0m\u001b[0;34m]\u001b[0m\u001b[0;34m\u001b[0m\u001b[0;34m\u001b[0m\u001b[0m\n",
      "\u001b[0;31mNameError\u001b[0m: name 'data_frames' is not defined"
     ]
    }
   ],
   "source": [
    "import matplotlib.pyplot as plt\n",
    "for i in range(len(data_frames)):\n",
    "#     print(type(i))\n",
    "#     print(i.keys())\n",
    "    probe_voltage = data_frames[i]['probe voltage (V)']\n",
    "    probe_current = data_frames[i][' probe current (A)']\n",
    "    plt.plot(probe_voltage, probe_current)\n",
    "    "
   ]
  },
  {
   "cell_type": "code",
   "execution_count": null,
   "metadata": {},
   "outputs": [],
   "source": [
    "len(data_frames[0])"
   ]
  },
  {
   "cell_type": "code",
   "execution_count": null,
   "metadata": {},
   "outputs": [],
   "source": [
    "data_frames[0][' probe current (A)']"
   ]
  },
  {
   "cell_type": "code",
   "execution_count": null,
   "metadata": {},
   "outputs": [],
   "source": []
  }
 ],
 "metadata": {
  "kernelspec": {
   "display_name": "Python 3",
   "language": "python",
   "name": "python3"
  },
  "language_info": {
   "codemirror_mode": {
    "name": "ipython",
    "version": 3
   },
   "file_extension": ".py",
   "mimetype": "text/x-python",
   "name": "python",
   "nbconvert_exporter": "python",
   "pygments_lexer": "ipython3",
   "version": "3.8.8"
  }
 },
 "nbformat": 4,
 "nbformat_minor": 4
}
