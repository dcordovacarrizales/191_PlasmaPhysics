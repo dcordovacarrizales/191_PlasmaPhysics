{
 "cells": [
  {
   "cell_type": "code",
   "execution_count": null,
   "id": "6cc0810a-14af-4fe4-8c2e-c02dfd92ded9",
   "metadata": {},
   "outputs": [],
   "source": []
  }
 ],
 "metadata": {
  "kernelspec": {
   "display_name": "Python 3",
   "language": "python",
   "name": "python3"
  },
  "language_info": {
   "name": ""
  }
 },
 "nbformat": 4,
 "nbformat_minor": 5
}
