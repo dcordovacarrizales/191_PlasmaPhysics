{
 "cells": [
  {
   "cell_type": "code",
   "execution_count": null,
   "metadata": {
    "colab": {
     "base_uri": "https://localhost:8080/"
    },
    "executionInfo": {
     "elapsed": 5643,
     "status": "ok",
     "timestamp": 1633916375586,
     "user": {
      "displayName": "Denisse Cordova Carrizales",
      "photoUrl": "https://lh3.googleusercontent.com/a-/AOh14Gi6-_X8ATaiPJnproU3t0LgZpz0xwlu1gqbBeqBRg=s64",
      "userId": "17998173412064941491"
     },
     "user_tz": 240
    },
    "id": "jZert2F0EQ-g",
    "outputId": "1045b9b1-2f34-4d70-8777-fdef9d00c8ee"
   },
   "outputs": [
    {
     "name": "stdout",
     "output_type": "stream",
     "text": [
      "Requirement already satisfied: mpld3 in /opt/anaconda3/lib/python3.7/site-packages (0.5.2)\r\n"
     ]
    }
   ],
   "source": [
    "pip install mpld3"
   ]
  },
  {
   "cell_type": "code",
   "execution_count": null,
   "metadata": {
    "executionInfo": {
     "elapsed": 178,
     "status": "ok",
     "timestamp": 1633916375759,
     "user": {
      "displayName": "Denisse Cordova Carrizales",
      "photoUrl": "https://lh3.googleusercontent.com/a-/AOh14Gi6-_X8ATaiPJnproU3t0LgZpz0xwlu1gqbBeqBRg=s64",
      "userId": "17998173412064941491"
     },
     "user_tz": 240
    },
    "id": "1c7d1ac2"
   },
   "outputs": [],
   "source": [
    "import numpy as np\n",
    "import matplotlib.pyplot as plt\n",
    "import glob\n",
    "import matplotlib.pyplot as plt, mpld3\n",
    "mpld3.enable_notebook()\n",
    "\n",
    "%matplotlib inline"
   ]
  },
  {
   "cell_type": "code",
   "execution_count": null,
   "metadata": {
    "executionInfo": {
     "elapsed": 14,
     "status": "ok",
     "timestamp": 1633816784069,
     "user": {
      "displayName": "Denisse Cordova Carrizales",
      "photoUrl": "https://lh3.googleusercontent.com/a-/AOh14Gi6-_X8ATaiPJnproU3t0LgZpz0xwlu1gqbBeqBRg=s64",
      "userId": "17998173412064941491"
     },
     "user_tz": 240
    },
    "id": "25a63219"
   },
   "outputs": [],
   "source": [
    "# Calibration for x axis\n",
    "\n",
    "m = 0.06275314836002217\n",
    "b = -0.19536577738644514"
   ]
  },
  {
   "cell_type": "code",
   "execution_count": null,
   "metadata": {
    "executionInfo": {
     "elapsed": 450,
     "status": "ok",
     "timestamp": 1633916361887,
     "user": {
      "displayName": "Denisse Cordova Carrizales",
      "photoUrl": "https://lh3.googleusercontent.com/a-/AOh14Gi6-_X8ATaiPJnproU3t0LgZpz0xwlu1gqbBeqBRg=s64",
      "userId": "17998173412064941491"
     },
     "user_tz": 240
    },
    "id": "add36934"
   },
   "outputs": [],
   "source": [
    "# Utility functions\n",
    "\n",
    "from scipy.optimize import curve_fit\n",
    "\n",
    "def gauss(x, A, x0, std_dev):\n",
    "    return A * np.exp(-(x - x0) ** 2 / (2 * std_dev ** 2))\n",
    "\n",
    "def gauss_fit(x, y):\n",
    "    peak_index = np.argmax(y)\n",
    "    peak_value = x[peak_index]\n",
    "    poissonError = np.sqrt(y)\n",
    "    std_dev = np.sqrt(sum((x - peak_index) ** 2) / (sum(y)-1)) #sample standard deviation\n",
    "    \n",
    "    #print(max(y), peak_index, std_dev)\n",
    "    popt, pcov = curve_fit(gauss, x, y, p0=[ max(y), peak_index, std_dev], sigma = poissonError, maxfev=5000)\n",
    "    return popt, pcov\n",
    "\n",
    "def normal_gauss(x,A,x0,std_dev): \n",
    "    return A/np.sqrt(2*np.pi*std_dev**2)*np.exp(-(x-x0)**2/(2*std_dev**2))\n",
    "\n",
    "def gauss_fit_to_spectrum(input_x,input_y,x1,x2, angle):\n",
    "    # Select peak to fit\n",
    "    xdata = input_x[x1:x2]\n",
    "    ydata = input_y[x1:x2]\n",
    "    [A, x0, std_dev],pcov = gauss_fit(xdata, ydata)\n",
    "    # offset, amplitude, center, sigma\n",
    "    \n",
    "    [A_err, x0_err, std_dev_err] = np.sqrt(np.diag(pcov))\n",
    "    print( [A_err, x0_err, std_dev_err])\n",
    "    # Plot input spectra with correct scaling\n",
    "    plt.plot(input_x*m+b,input_y, label='Subtracted Spectra')\n",
    "    \n",
    "    # Plot selected peak to fit\n",
    "    plt.plot(xdata*m+b, ydata, label='Selected Peak')\n",
    "    \n",
    "    # Plot fitted gaussian to peak\n",
    "    plt.plot(input_x*m+b, gauss(input_x, A, x0, std_dev), '--r', label='Fit')\n",
    "#     plt.annotate(f'Mean={round(x0*m+b,2)}keV, $\\sigma$={round(sigma,2)}, Amplitude={round(A,2)}counts/s',(0.2,0.5), xycoords='figure fraction')\n",
    "    plt.legend()\n",
    "    plt.title(angle + ' deg')\n",
    "    plt.xlabel('Energy Levels (KeV)')\n",
    "    plt.ylabel('Counts/s')\n",
    "    plt.show()\n",
    "    return np.array([x0*m+b,A,std_dev,x0_err,A_err,std_dev_err])"
   ]
  },
  {
   "cell_type": "markdown",
   "metadata": {
    "id": "e3de3212"
   },
   "source": [
    "# Background"
   ]
  },
  {
   "cell_type": "code",
   "execution_count": null,
   "metadata": {
    "colab": {
     "base_uri": "https://localhost:8080/",
     "height": 324
    },
    "executionInfo": {
     "elapsed": 425,
     "status": "error",
     "timestamp": 1633816784484,
     "user": {
      "displayName": "Denisse Cordova Carrizales",
      "photoUrl": "https://lh3.googleusercontent.com/a-/AOh14Gi6-_X8ATaiPJnproU3t0LgZpz0xwlu1gqbBeqBRg=s64",
      "userId": "17998173412064941491"
     },
     "user_tz": 240
    },
    "id": "357d3959",
    "outputId": "aadf659b-361f-43fa-8310-ff136d2f86b7"
   },
   "outputs": [],
   "source": [
    "#%matplotlib qt\n",
    "plt.rcParams.update({'font.size': 20})\n",
    "plt.rcParams[\"font.family\"] = \"serif\"\n",
    "plt.title('Americium on Germanium Detector Background')\n",
    "plt.xlabel('Energies (keV)')\n",
    "plt.ylabel('Intensity (counts/s)')\n",
    "background =np.loadtxt('Calibrations/BackgroundRadiationGe85gain1500volts840sec.Spe',skiprows=12, max_rows=1023)\n",
    "plt.plot(background)"
   ]
  },
  {
   "cell_type": "code",
   "execution_count": null,
   "metadata": {
    "executionInfo": {
     "elapsed": 214,
     "status": "aborted",
     "timestamp": 1633816784277,
     "user": {
      "displayName": "Denisse Cordova Carrizales",
      "photoUrl": "https://lh3.googleusercontent.com/a-/AOh14Gi6-_X8ATaiPJnproU3t0LgZpz0xwlu1gqbBeqBRg=s64",
      "userId": "17998173412064941491"
     },
     "user_tz": 240
    },
    "id": "e1c8aa5e"
   },
   "outputs": [],
   "source": [
    "background"
   ]
  },
  {
   "cell_type": "markdown",
   "metadata": {
    "id": "10c38ee5"
   },
   "source": [
    "# Aluminum"
   ]
  },
  {
   "cell_type": "code",
   "execution_count": null,
   "metadata": {
    "executionInfo": {
     "elapsed": 23,
     "status": "aborted",
     "timestamp": 1633816784279,
     "user": {
      "displayName": "Denisse Cordova Carrizales",
      "photoUrl": "https://lh3.googleusercontent.com/a-/AOh14Gi6-_X8ATaiPJnproU3t0LgZpz0xwlu1gqbBeqBRg=s64",
      "userId": "17998173412064941491"
     },
     "user_tz": 240
    },
    "id": "687654bd"
   },
   "outputs": [],
   "source": [
    "# Read files\n",
    "\n",
    "files = glob.glob('Americium_Aluminum/*.Spe')\n",
    "am_al_dict = {}\n",
    "\n",
    "for f in files:\n",
    "    angle = f.split('AmericiumAl')[1].split('degrees')[0]\n",
    "    time = f.split('volts')[1].split('sec')[0]\n",
    "    data = np.loadtxt(f,skiprows=12, max_rows=1023)\n",
    "    entry = {'filename':f, 'time':time,'data':data}\n",
    "    am_al_dict[angle] = entry"
   ]
  },
  {
   "cell_type": "code",
   "execution_count": null,
   "metadata": {
    "executionInfo": {
     "elapsed": 24,
     "status": "aborted",
     "timestamp": 1633816784280,
     "user": {
      "displayName": "Denisse Cordova Carrizales",
      "photoUrl": "https://lh3.googleusercontent.com/a-/AOh14Gi6-_X8ATaiPJnproU3t0LgZpz0xwlu1gqbBeqBRg=s64",
      "userId": "17998173412064941491"
     },
     "user_tz": 240
    },
    "id": "5dc470e5"
   },
   "outputs": [],
   "source": [
    "# Define variables\n",
    "\n",
    "bins = np.linspace(1,1023,1023)\n",
    "plt.rcParams['figure.figsize'] = [10, 5]\n",
    "data = []"
   ]
  },
  {
   "cell_type": "code",
   "execution_count": null,
   "metadata": {
    "executionInfo": {
     "elapsed": 24,
     "status": "aborted",
     "timestamp": 1633816784281,
     "user": {
      "displayName": "Denisse Cordova Carrizales",
      "photoUrl": "https://lh3.googleusercontent.com/a-/AOh14Gi6-_X8ATaiPJnproU3t0LgZpz0xwlu1gqbBeqBRg=s64",
      "userId": "17998173412064941491"
     },
     "user_tz": 240
    },
    "id": "9db54bdb",
    "scrolled": true,
    "tags": []
   },
   "outputs": [],
   "source": [
    "# Select compton energy peaks\n",
    "\n",
    "am_al_dict['30']['x1'] = 870\n",
    "am_al_dict['30']['x2'] = 937\n",
    "\n",
    "am_al_dict['50']['x1'] = 865\n",
    "am_al_dict['50']['x2'] = 935\n",
    "\n",
    "am_al_dict['70']['x1'] = 830\n",
    "am_al_dict['70']['x2'] = 935\n",
    "\n",
    "am_al_dict['90']['x1'] = 750\n",
    "am_al_dict['90']['x2'] = 900\n",
    "\n",
    "am_al_dict['110']['x1'] = 770\n",
    "am_al_dict['110']['x2'] = 870\n",
    "\n",
    "am_al_dict['130']['x1'] = 750\n",
    "am_al_dict['130']['x2'] = 850\n",
    "\n",
    "# am_al_dict['150']['x1'] = 650\n",
    "# am_al_dict['150']['x2'] = 800"
   ]
  },
  {
   "cell_type": "markdown",
   "metadata": {},
   "source": []
  },
  {
   "cell_type": "code",
   "execution_count": null,
   "metadata": {},
   "outputs": [],
   "source": [
    "bins = np.linspace(1,1023,1023)\n",
    "plt.rcParams['figure.figsize'] = [10, 5]\n",
    "\n",
    "#%matplotlib qt\n",
    "for angle in ['30','50','70','90','110','130']:\n",
    "    entry = am_al_dict[angle]\n",
    "    plt.figure(figsize=(10,5))\n",
    "    # plt.plot(entry['data'], label = angle)\n",
    "\n",
    "    x1 = entry['x1']\n",
    "    x2 = entry['x2']\n",
    "    \n",
    "    # Use average background\n",
    "    bg_level = np.mean(entry['data'][200:600])/int(entry['time'])\n",
    "    #bg_level_poisson_error = np.sqrt(entry['data'][200:600])/int(entry['time'])\n",
    "    \n",
    "    # Background subtracted spectrum\n",
    "    #spectrum = entry['data']/int(entry['time'])-bg_level\n",
    "    # Plot background level\n",
    "    plt.axhline(bg_level,linestyle='dashed')\n",
    "    \n",
    "    plt.errorbar(bins*m+b, entry['data'], yerr=np.sqrt(entry['data']),fmt='o',label='data') \n",
    "    "
   ]
  },
  {
   "cell_type": "code",
   "execution_count": null,
   "metadata": {},
   "outputs": [],
   "source": [
    "#%matplotlib qt"
   ]
  },
  {
   "cell_type": "code",
   "execution_count": null,
   "metadata": {},
   "outputs": [],
   "source": [
    "# def gauss_fit(x, y):\n",
    "#     mean = sum(x * y) / sum(y)\n",
    "#     sigma = np.sqrt(sum(y * (x - mean) ** 2) / sum(y))\n",
    "#     err = np.sqrt(y)\n",
    "#     popt, pcov = curve_fit(normal_gauss, x, y, sigma=err, absolute_sigma=True, p0=[ max(y), mean, sigma])\n",
    "#     return popt, pcov\n",
    "bins = np.linspace(1,1023,1023)\n",
    "\n",
    "entry = am_al_dict['50']\n",
    "\n",
    "x1 = entry['x1']\n",
    "x2 = entry['x2']\n",
    "    \n",
    "input_x = bins*m+b\n",
    "input_y = entry['data']\n",
    "yerr = np.zeros(len(input_y))\n",
    "yerr[np.where(input_y != 0.)] = np.sqrt(input_y[np.where(input_y != 0.)])\n",
    "\n",
    "#bg_level_err = np.sqrt(entry['data'][200:600])/int(entry['time'])\n",
    "\n",
    "\n",
    "#total_err = np.sqrt(np.square(yerr) + np.square(bg_level)) #background and spectra error added in quadrature. the error on the background and spectra is poisson distributed. so the error is the sqrt of the mean (or y) \n",
    "\n",
    "plt.figure()\n",
    "plt.errorbar(input_x, input_y , yerr=yerr,fmt='o',label='data')\n",
    "\n",
    "xdata = input_x[x1:x2]\n",
    "ydata = input_y[x1:x2]\n",
    "err = yerr[x1:x2]\n",
    "\n",
    "\n",
    "#print(len(bg_level_err))\n",
    "#print(len(xdata))\n",
    "\n",
    "\n",
    "\n",
    "mean = sum(xdata * ydata) / sum(ydata)\n",
    "sigma = (max(xdata) - min(xdata)) / 2\n",
    "plt.errorbar(xdata, ydata , yerr=err,fmt='o',label='selected peak')\n",
    "\n",
    "\n",
    "[A, x0, sigma],pcov = curve_fit(normal_gauss, xdata, ydata, sigma=err,absolute_sigma=True, p0=[ max(ydata), mean, sigma])\n",
    "\n",
    "# offset, amplitude, center, sigma\n",
    "\n",
    "[A_err, x0_err, sigma_err] = np.sqrt(np.diag(pcov))\n",
    "print( [A_err, x0_err, sigma_err],[A, x0, sigma])\n",
    "\n",
    "plt.plot(input_x, normal_gauss(input_x, A, x0, sigma), '--r', label='fit')\n",
    "\n",
    "plt.title('Gaussian fit ' + angle + ' deg')\n",
    "plt.xlabel('Energy Levels (KeV)')\n",
    "plt.ylabel('Counts')\n",
    "plt.legend()\n"
   ]
  },
  {
   "cell_type": "code",
   "execution_count": null,
   "metadata": {},
   "outputs": [],
   "source": [
    "np.sum(normal_gauss(input_x, A, x0, sigma))"
   ]
  },
  {
   "cell_type": "code",
   "execution_count": null,
   "metadata": {
    "executionInfo": {
     "elapsed": 24,
     "status": "aborted",
     "timestamp": 1633816784281,
     "user": {
      "displayName": "Denisse Cordova Carrizales",
      "photoUrl": "https://lh3.googleusercontent.com/a-/AOh14Gi6-_X8ATaiPJnproU3t0LgZpz0xwlu1gqbBeqBRg=s64",
      "userId": "17998173412064941491"
     },
     "user_tz": 240
    },
    "id": "279999bb",
    "scrolled": true
   },
   "outputs": [],
   "source": [
    "bins = np.linspace(1,1023,1023)\n",
    "plt.rcParams['figure.figsize'] = [10, 5]\n",
    "al_data = []\n",
    "\n",
    "%matplotlib inline\n",
    "for angle in ['30','50','70','90','110','130']:\n",
    "    entry = am_al_dict[angle]\n",
    "    plt.figure(figsize=(10,5))\n",
    "    # plt.plot(entry['data'], label = angle)\n",
    "\n",
    "    x1 = entry['x1']\n",
    "    x2 = entry['x2']\n",
    "    # Use average background\n",
    "    bg_level = np.mean(entry['data'][200:600])/int(entry['time'])\n",
    "    #bg_level_poisson_error = np.sqrt(entry['data'][200:600])/int(entry['time'])\n",
    "    \n",
    "    # Background subtracted spectrum\n",
    "    spectrum = entry['data']\n",
    "    #/int(entry['time'])-bg_level\n",
    "\n",
    "    # Plot background level\n",
    "    plt.axhline(bg_level,linestyle='dashed')\n",
    "    \n",
    "    # Intensity Ratio\n",
    "#     I_ratio = np.sum(entry['data'][x1:x2])/ np.sum(entry['data'])\n",
    "    \n",
    "    # Fit peak and plot data\n",
    "    al_data.append(np.append(np.array([int(angle),int(am_al_dict[angle]['time'])]),gauss_fit_to_spectrum(bins*m+b,spectrum,x1,x2,angle)))\n",
    "#     al_data.append(np.append(np.array([int(angle),I_ratio]),gauss_fit_to_spectrum(bins,spectrum,x1,x2, angle)))\n"
   ]
  },
  {
   "cell_type": "code",
   "execution_count": null,
   "metadata": {},
   "outputs": [],
   "source": [
    "#%matplotlib qt\n",
    "plt.rcParams.update({'font.size': 20})\n",
    "plt.rcParams[\"font.family\"] = \"serif\""
   ]
  },
  {
   "cell_type": "code",
   "execution_count": null,
   "metadata": {},
   "outputs": [],
   "source": [
    "angle='50'\n",
    "normalized_data = am_al_dict[angle]['data']/int(am_al_dict[angle]['time']) #calibrations[angle]['data']/np.sum(calibrations[angle]['data'])\n",
    "normalized_bg = background/840 #cesium_cs_pb_dict[angle]['data']/np.sum(cesium_cs_pb_dict[angle]['data'])\n",
    "\n",
    "# Plot data and background with correct energy scaling\n",
    "plt.figure(figsize = (10,5))\n",
    "plt.plot(bins*m+b,normalized_data,label='Scaled Spectra',alpha=0.7)\n",
    "plt.plot(bins*m+b,normalized_bg,label='Scaled Background',alpha=0.7)\n",
    "plt.legend()\n",
    "\n",
    "# Fit gaussian to peak and plot peak\n",
    "x1 = am_al_dict[angle]['x1']\n",
    "x2 = am_al_dict[angle]['x2']\n",
    "scale = np.sum(am_al_dict[angle]['data'])\n",
    "spectrum = (normalized_data - normalized_bg)\n",
    "pb_data.append(np.append(np.array([int(angle),int(am_al_dict[angle]['time'])]),gauss_fit_to_spectrum(bins,spectrum,x1,x2, angle)))\n",
    "plt.tight_layout()"
   ]
  },
  {
   "cell_type": "code",
   "execution_count": null,
   "metadata": {},
   "outputs": [],
   "source": [
    "plt.plot(bins*m+b, normal_gauss(input_x, A, x0, sigma), '--r', label='fit')\n",
    "plt.legend()\n",
    "plt.title('Gaussian fit ' + angle + ' deg')\n",
    "plt.xlabel('Energy Levels (KeV)')\n",
    "plt.ylabel('Counts')\n",
    "plt.show()"
   ]
  },
  {
   "cell_type": "code",
   "execution_count": null,
   "metadata": {
    "executionInfo": {
     "elapsed": 25,
     "status": "aborted",
     "timestamp": 1633816784282,
     "user": {
      "displayName": "Denisse Cordova Carrizales",
      "photoUrl": "https://lh3.googleusercontent.com/a-/AOh14Gi6-_X8ATaiPJnproU3t0LgZpz0xwlu1gqbBeqBRg=s64",
      "userId": "17998173412064941491"
     },
     "user_tz": 240
    },
    "id": "7eaf196d"
   },
   "outputs": [],
   "source": [
    "# Get fit parameters\n",
    "angles_am_al, times_am_al, shifts_am_al, As_am_al, sigmas_am_al, shifts_err_am_al, As_err_am_al, sigmas_err_am_al = np.transpose(np.array(al_data))\n",
    "# Area under the gaussian fit\n",
    "# intensity_am_al = [np.sum(gauss(bins,As_am_al[i], shifts_am_al[i], sigmas_am_al[i])) for i in range(len(angles_am_al))]"
   ]
  },
  {
   "cell_type": "code",
   "execution_count": null,
   "metadata": {
    "executionInfo": {
     "elapsed": 24,
     "status": "aborted",
     "timestamp": 1633816784282,
     "user": {
      "displayName": "Denisse Cordova Carrizales",
      "photoUrl": "https://lh3.googleusercontent.com/a-/AOh14Gi6-_X8ATaiPJnproU3t0LgZpz0xwlu1gqbBeqBRg=s64",
      "userId": "17998173412064941491"
     },
     "user_tz": 240
    },
    "id": "c1a7cfb5-35fc-4c9b-8449-770cd81eeaa9"
   },
   "outputs": [],
   "source": [
    "As_am_al"
   ]
  },
  {
   "cell_type": "code",
   "execution_count": null,
   "metadata": {
    "executionInfo": {
     "elapsed": 25,
     "status": "aborted",
     "timestamp": 1633816784283,
     "user": {
      "displayName": "Denisse Cordova Carrizales",
      "photoUrl": "https://lh3.googleusercontent.com/a-/AOh14Gi6-_X8ATaiPJnproU3t0LgZpz0xwlu1gqbBeqBRg=s64",
      "userId": "17998173412064941491"
     },
     "user_tz": 240
    },
    "id": "7cf6f098-d6dd-49d2-8ca4-7d960210f328"
   },
   "outputs": [],
   "source": [
    "\n",
    "plt.figure(figsize=(10,5))\n",
    "plt.plot(angles_am_al,shifts_am_al,'o',label='Aluminum')\n",
    "plt.plot(angles_am_pb,shifts_am_pb,'o',label='Lead')\n",
    "plt.xlabel('Angles (degrees)')\n",
    "plt.ylabel('Peak Energy (keV)')\n",
    "plt.title('Americium Source Compton Scattering')\n",
    "plt.legend()\n",
    "plt.tight_layout()\n"
   ]
  },
  {
   "cell_type": "markdown",
   "metadata": {
    "id": "6d55cbc9-a649-4ce9-b848-6beaceaaefdf"
   },
   "source": [
    "#### Compare compton shifts to theoretical values"
   ]
  },
  {
   "cell_type": "code",
   "execution_count": null,
   "metadata": {
    "executionInfo": {
     "elapsed": 25,
     "status": "aborted",
     "timestamp": 1633816784283,
     "user": {
      "displayName": "Denisse Cordova Carrizales",
      "photoUrl": "https://lh3.googleusercontent.com/a-/AOh14Gi6-_X8ATaiPJnproU3t0LgZpz0xwlu1gqbBeqBRg=s64",
      "userId": "17998173412064941491"
     },
     "user_tz": 240
    },
    "id": "b7b64720"
   },
   "outputs": [],
   "source": [
    "#%matplotlib qt\n",
    "plt.rcParams.update({'font.size': 20})\n",
    "plt.rcParams[\"font.family\"] = \"serif\""
   ]
  },
  {
   "cell_type": "code",
   "execution_count": null,
   "metadata": {
    "executionInfo": {
     "elapsed": 25,
     "status": "aborted",
     "timestamp": 1633816784284,
     "user": {
      "displayName": "Denisse Cordova Carrizales",
      "photoUrl": "https://lh3.googleusercontent.com/a-/AOh14Gi6-_X8ATaiPJnproU3t0LgZpz0xwlu1gqbBeqBRg=s64",
      "userId": "17998173412064941491"
     },
     "user_tz": 240
    },
    "id": "b4d8563b"
   },
   "outputs": [],
   "source": [
    "mass_of_electron = 9.10938356e-31 #kg\n",
    "speed_of_light = 299792458 #m/s\n",
    "E0 = 59.5 #keV\n",
    "keV = 1000 * 1.602176634e-19 #kg m^2/s^2 = J\n",
    "\n",
    "thetas = np.linspace(0,180,180)\n",
    "calculated_shifts = 1 / (E0*keV) + 1 / (mass_of_electron *  speed_of_light ** 2) * (1-np.cos(np.radians(thetas)))"
   ]
  },
  {
   "cell_type": "code",
   "execution_count": null,
   "metadata": {
    "executionInfo": {
     "elapsed": 193,
     "status": "aborted",
     "timestamp": 1633816784451,
     "user": {
      "displayName": "Denisse Cordova Carrizales",
      "photoUrl": "https://lh3.googleusercontent.com/a-/AOh14Gi6-_X8ATaiPJnproU3t0LgZpz0xwlu1gqbBeqBRg=s64",
      "userId": "17998173412064941491"
     },
     "user_tz": 240
    },
    "id": "1b40134a"
   },
   "outputs": [],
   "source": [
    "# Fit compton shifts, slope should correspond to 1 / mc^2, where m is electron mass\n",
    "m_am_al,b_am_al = np.polyfit(1-np.cos(np.radians(angles_am_al)), 1/(shifts_am_al), 1)\n",
    "thetas = np.linspace(0,180,180)"
   ]
  },
  {
   "cell_type": "code",
   "execution_count": null,
   "metadata": {
    "executionInfo": {
     "elapsed": 199,
     "status": "aborted",
     "timestamp": 1633816784458,
     "user": {
      "displayName": "Denisse Cordova Carrizales",
      "photoUrl": "https://lh3.googleusercontent.com/a-/AOh14Gi6-_X8ATaiPJnproU3t0LgZpz0xwlu1gqbBeqBRg=s64",
      "userId": "17998173412064941491"
     },
     "user_tz": 240
    },
    "id": "c71cb975-c058-4dbb-9f9c-89e401c2611b"
   },
   "outputs": [],
   "source": [
    "shifts_err_am_al/shifts_am_al"
   ]
  },
  {
   "cell_type": "code",
   "execution_count": null,
   "metadata": {
    "executionInfo": {
     "elapsed": 202,
     "status": "aborted",
     "timestamp": 1633816784461,
     "user": {
      "displayName": "Denisse Cordova Carrizales",
      "photoUrl": "https://lh3.googleusercontent.com/a-/AOh14Gi6-_X8ATaiPJnproU3t0LgZpz0xwlu1gqbBeqBRg=s64",
      "userId": "17998173412064941491"
     },
     "user_tz": 240
    },
    "id": "b0226e69"
   },
   "outputs": [],
   "source": [
    "# Plot compton shifts\n",
    "\n",
    "plt.figure(figsize=(10,5))\n",
    "plt.errorbar(1-np.cos(np.radians(angles_am_al)), 1/(shifts_am_al),yerr=(shifts_err_am_al/shifts_am_al**2),fmt='o',markersize = 10, label = 'Data')\n",
    "plt.plot(1-np.cos(np.radians(thetas)), calculated_shifts * keV, label = 'Theoretical Values')\n",
    "# plt.plot(1-np.cos(np.radians(thetas)), calculated_shifts_adjusted * keV, label = 'Theoretical Values Adjusted')\n",
    "plt.plot(1-np.cos(np.radians(thetas)), (1-np.cos(np.radians(thetas)))*m_am_al+b_am_al, '--', label = 'Data Fit')\n",
    "plt.xlabel(r'1-cos($\\theta$)')\n",
    "plt.ylabel(r'1/E (keV$^{-1}$)')\n",
    "plt.annotate('Fitted Slope = %4f keV$^{-1}$'%(m_am_al),(0.75,0.017))\n",
    "plt.title('Americium Source Aluminum Scattering Target')\n",
    "plt.legend()\n",
    "plt.tight_layout()\n"
   ]
  },
  {
   "cell_type": "code",
   "execution_count": null,
   "metadata": {
    "executionInfo": {
     "elapsed": 204,
     "status": "aborted",
     "timestamp": 1633816784464,
     "user": {
      "displayName": "Denisse Cordova Carrizales",
      "photoUrl": "https://lh3.googleusercontent.com/a-/AOh14Gi6-_X8ATaiPJnproU3t0LgZpz0xwlu1gqbBeqBRg=s64",
      "userId": "17998173412064941491"
     },
     "user_tz": 240
    },
    "id": "a4438976-1bcf-4012-8267-e3edeb6cac45"
   },
   "outputs": [],
   "source": []
  },
  {
   "cell_type": "markdown",
   "metadata": {
    "id": "7921c3b1"
   },
   "source": [
    "# Lead"
   ]
  },
  {
   "cell_type": "code",
   "execution_count": null,
   "metadata": {
    "executionInfo": {
     "elapsed": 205,
     "status": "aborted",
     "timestamp": 1633816784465,
     "user": {
      "displayName": "Denisse Cordova Carrizales",
      "photoUrl": "https://lh3.googleusercontent.com/a-/AOh14Gi6-_X8ATaiPJnproU3t0LgZpz0xwlu1gqbBeqBRg=s64",
      "userId": "17998173412064941491"
     },
     "user_tz": 240
    },
    "id": "65243cb5"
   },
   "outputs": [],
   "source": [
    "files = glob.glob('Americium_Lead/*.Spe')\n",
    "am_pb_dict = {}\n",
    "\n",
    "%matplotlib inline\n",
    "for f in files:\n",
    "    angle = f.split('AmericiumPb')[1].split('degrees')[0]\n",
    "    time = f.split('volts')[1].split('sec')[0]\n",
    "    data = np.loadtxt(f,skiprows=12, max_rows=1023)\n",
    "    entry = {'filename':f, 'time':time,'data':data}\n",
    "    am_pb_dict[angle] = entry"
   ]
  },
  {
   "cell_type": "code",
   "execution_count": null,
   "metadata": {
    "executionInfo": {
     "elapsed": 207,
     "status": "aborted",
     "timestamp": 1633816784467,
     "user": {
      "displayName": "Denisse Cordova Carrizales",
      "photoUrl": "https://lh3.googleusercontent.com/a-/AOh14Gi6-_X8ATaiPJnproU3t0LgZpz0xwlu1gqbBeqBRg=s64",
      "userId": "17998173412064941491"
     },
     "user_tz": 240
    },
    "id": "b416d1a6"
   },
   "outputs": [],
   "source": [
    "am_pb_dict['50']['x1'] = 900\n",
    "am_pb_dict['50']['x2'] = 935\n",
    "\n",
    "am_pb_dict['70']['x1'] = 850\n",
    "am_pb_dict['70']['x2'] = 935\n",
    "\n",
    "am_pb_dict['90']['x1'] = 800\n",
    "am_pb_dict['90']['x2'] = 920\n",
    "\n",
    "am_pb_dict['110']['x1'] = 750\n",
    "am_pb_dict['110']['x2'] = 900\n",
    "\n",
    "am_pb_dict['130']['x1'] = 750\n",
    "am_pb_dict['130']['x2'] = 850\n",
    "\n",
    "am_pb_dict['150']['x1'] = 750\n",
    "am_pb_dict['150']['x2'] = 850\n",
    "\n",
    "# am_al_dict['150']['x1'] = 650\n",
    "# am_al_dict['150']['x2'] = 800"
   ]
  },
  {
   "cell_type": "code",
   "execution_count": null,
   "metadata": {
    "executionInfo": {
     "elapsed": 208,
     "status": "aborted",
     "timestamp": 1633816784468,
     "user": {
      "displayName": "Denisse Cordova Carrizales",
      "photoUrl": "https://lh3.googleusercontent.com/a-/AOh14Gi6-_X8ATaiPJnproU3t0LgZpz0xwlu1gqbBeqBRg=s64",
      "userId": "17998173412064941491"
     },
     "user_tz": 240
    },
    "id": "eade0ece"
   },
   "outputs": [],
   "source": [
    "bins = np.linspace(1,1023,1023)\n",
    "plt.rcParams['figure.figsize'] = [10, 5]\n",
    "pb_data = []\n",
    "\n",
    "%matplotlib inline\n",
    "for angle in ['50','70','90','110','130','150']:\n",
    "    entry = am_pb_dict[angle]\n",
    "    plt.figure(figsize=(10,5))\n",
    "#     plt.plot(entry['data'], label = angle)\n",
    "    x1 = entry['x1']\n",
    "    x2 = entry['x2']\n",
    "    bg_level = np.mean(entry['data'][400:600])/int(entry['time'])\n",
    "    spectrum = entry['data']/int(entry['time'])-bg_level\n",
    "#     bg_level = np.mean(background[x1:x2])\n",
    "    plt.axhline(bg_level,linestyle='dashed')\n",
    "#     bg_level = np.mean(background[x1:x2])\n",
    "    pb_data.append(np.append(np.array([int(angle),int(am_pb_dict[angle]['time'])]),gauss_fit_to_spectrum(bins,spectrum,x1,x2, angle)))\n",
    "#     plt.plot(bins,entry['data']-background * (int(entry['time'])/120), label = angle + ' deg')\n",
    "#     plt.title(angle + ' deg')"
   ]
  },
  {
   "cell_type": "code",
   "execution_count": null,
   "metadata": {
    "executionInfo": {
     "elapsed": 208,
     "status": "aborted",
     "timestamp": 1633816784469,
     "user": {
      "displayName": "Denisse Cordova Carrizales",
      "photoUrl": "https://lh3.googleusercontent.com/a-/AOh14Gi6-_X8ATaiPJnproU3t0LgZpz0xwlu1gqbBeqBRg=s64",
      "userId": "17998173412064941491"
     },
     "user_tz": 240
    },
    "id": "430ae6c5"
   },
   "outputs": [],
   "source": [
    "angles_am_pb, times_am_pb, shifts_am_pb, As_am_pb, sigmas_am_pb, shifts_err_am_pb, As_err_am_pb, sigmas_err_am_pb = np.transpose(np.array(pb_data))\n"
   ]
  },
  {
   "cell_type": "code",
   "execution_count": null,
   "metadata": {
    "executionInfo": {
     "elapsed": 208,
     "status": "aborted",
     "timestamp": 1633816784469,
     "user": {
      "displayName": "Denisse Cordova Carrizales",
      "photoUrl": "https://lh3.googleusercontent.com/a-/AOh14Gi6-_X8ATaiPJnproU3t0LgZpz0xwlu1gqbBeqBRg=s64",
      "userId": "17998173412064941491"
     },
     "user_tz": 240
    },
    "id": "916c7d03-c67d-4410-859b-6fcfe0af2b16"
   },
   "outputs": [],
   "source": [
    "plt.figure()\n",
    "plt.plot(angles_am_pb,As_am_pb,'o')\n",
    "plt.xlabel('Angles')\n",
    "plt.ylabel('Cross Section')\n",
    "plt.title('Cesium Source Lead Scattering Target')"
   ]
  },
  {
   "cell_type": "markdown",
   "metadata": {
    "id": "f27cfde8-2f39-4bac-b219-9ff51b310ef6"
   },
   "source": [
    "#### Compare compton shifts to theoretical values"
   ]
  },
  {
   "cell_type": "code",
   "execution_count": null,
   "metadata": {
    "executionInfo": {
     "elapsed": 209,
     "status": "aborted",
     "timestamp": 1633816784470,
     "user": {
      "displayName": "Denisse Cordova Carrizales",
      "photoUrl": "https://lh3.googleusercontent.com/a-/AOh14Gi6-_X8ATaiPJnproU3t0LgZpz0xwlu1gqbBeqBRg=s64",
      "userId": "17998173412064941491"
     },
     "user_tz": 240
    },
    "id": "6bc01fc8"
   },
   "outputs": [],
   "source": [
    "%matplotlib qt\n",
    "plt.rcParams.update({'font.size': 20})\n",
    "plt.rcParams[\"font.family\"] = \"serif\""
   ]
  },
  {
   "cell_type": "code",
   "execution_count": null,
   "metadata": {
    "executionInfo": {
     "elapsed": 208,
     "status": "aborted",
     "timestamp": 1633816784471,
     "user": {
      "displayName": "Denisse Cordova Carrizales",
      "photoUrl": "https://lh3.googleusercontent.com/a-/AOh14Gi6-_X8ATaiPJnproU3t0LgZpz0xwlu1gqbBeqBRg=s64",
      "userId": "17998173412064941491"
     },
     "user_tz": 240
    },
    "id": "4cbb563b"
   },
   "outputs": [],
   "source": [
    "# Constants\n",
    "mass_of_electron = 9.10938356e-31 #kg\n",
    "speed_of_light = 299792458 #m/s\n",
    "E0 = 59.5 #keV\n",
    "keV = 1000 * 1.602176634e-19 #kg m^2/s^2 = J\n",
    "\n",
    "thetas = np.linspace(0,180,180)\n",
    "calculated_shifts = 1 / (E0*keV) + 1 / (mass_of_electron *  speed_of_light ** 2) * (1-np.cos(np.radians(thetas)))\n",
    "# Fit compton shifts, slope should correspond to 1 / mc^2, where m is electron mass\n",
    "m_am_pb,b_am_pb = np.polyfit(1-np.cos(np.radians(angles_am_pb)), 1/(shifts_am_pb), 1)\n",
    "thetas = np.linspace(0,180,180)\n",
    "\n",
    "plt.figure(figsize=(10,5))\n",
    "plt.errorbar(1-np.cos(np.radians(angles_am_pb)), 1/(shifts_am_pb),yerr=shifts_err_am_pb/shifts_am_pb**2,fmt='o',markersize = 10, label = 'Data')\n",
    "plt.plot(1-np.cos(np.radians(thetas)), calculated_shifts * keV, label = 'Theoretical Values')\n",
    "# plt.plot(1-np.cos(np.radians(thetas)), calculated_shifts_adjusted * keV, label = 'Theoretical Values Adjusted')\n",
    "plt.plot(1-np.cos(np.radians(thetas)), (1-np.cos(np.radians(thetas)))*m_am_pb+b_am_pb, '--', label = 'Data Fit')\n",
    "plt.xlabel(r'1-cos($\\theta$)')\n",
    "plt.ylabel(r'1/E (keV$^{-1}$)')\n",
    "plt.annotate('Fitted Slope = %4f keV$^{-1}$'%(m_am_pb),(0.75,0.017))\n",
    "plt.title('Americium Source Lead Scattering Target')\n",
    "plt.legend()\n",
    "plt.tight_layout()"
   ]
  },
  {
   "cell_type": "code",
   "execution_count": null,
   "metadata": {
    "executionInfo": {
     "elapsed": 206,
     "status": "aborted",
     "timestamp": 1633816784472,
     "user": {
      "displayName": "Denisse Cordova Carrizales",
      "photoUrl": "https://lh3.googleusercontent.com/a-/AOh14Gi6-_X8ATaiPJnproU3t0LgZpz0xwlu1gqbBeqBRg=s64",
      "userId": "17998173412064941491"
     },
     "user_tz": 240
    },
    "id": "18dbe467-1a39-4fae-aae9-ee0e2b298aaf"
   },
   "outputs": [],
   "source": [
    "plt.plot(thetas, 1/calculated_shifts, label = 'Theoretical Values')"
   ]
  },
  {
   "cell_type": "code",
   "execution_count": null,
   "metadata": {
    "executionInfo": {
     "elapsed": 205,
     "status": "aborted",
     "timestamp": 1633816784472,
     "user": {
      "displayName": "Denisse Cordova Carrizales",
      "photoUrl": "https://lh3.googleusercontent.com/a-/AOh14Gi6-_X8ATaiPJnproU3t0LgZpz0xwlu1gqbBeqBRg=s64",
      "userId": "17998173412064941491"
     },
     "user_tz": 240
    },
    "id": "4981d873"
   },
   "outputs": [],
   "source": [
    "%matplotlib qt\n",
    "plt.figure(figsize=(10,5))\n",
    "plt.errorbar(angles_am_al, shifts_am_al,yerr=shifts_err_am_al,fmt='o', markersize = 10, label='Aluminum',alpha = 0.7)\n",
    "plt.errorbar(angles_am_pb, shifts_am_pb,yerr=shifts_err_am_pb,fmt='o', markersize = 10, label='Lead',alpha=0.7)\n",
    "plt.xlabel('Angles (radians)')\n",
    "plt.ylabel('Scattered Photon Energy (keV)')\n",
    "plt.title('Americium Scattering')\n",
    "plt.legend()\n",
    "plt.tight_layout()"
   ]
  },
  {
   "cell_type": "code",
   "execution_count": null,
   "metadata": {},
   "outputs": [],
   "source": [
    "f, axes = plt.subplots(6, 1, sharex=True, figsize=(10,12))\n",
    "axes[0].set_title('Americium 241 Source Scattered on Aluminum Target')\n",
    "# ax7.set_xlabel('Energies (keV)')\n",
    "# Make common axis labels\n",
    "f.text(0.5, 0.04, 'Energies (keV)', va='center', ha='center')\n",
    "f.text(0.02, 0.5, 'Intensity (counts/s)', va='center', ha='center', rotation='vertical')\n",
    "angles =['30','50','70','90','110','130']\n",
    "for i in range(len(angles)):\n",
    "    axes[i].plot(bins*m+b,am_al_dict[angles[i]]['data']/int(am_al_dict[angles[i]]['time']))\n",
    "    axes[i].annotate(angles[i]+' deg', (0.3,0.5), xycoords='axes fraction')"
   ]
  },
  {
   "cell_type": "code",
   "execution_count": null,
   "metadata": {},
   "outputs": [],
   "source": [
    "f, axes = plt.subplots(6, 1, sharex=True, figsize=(10,12))\n",
    "axes[0].set_title('Americium 241 Source Scattered on Lead Target')\n",
    "# ax7.set_xlabel('Energies (keV)')\n",
    "# Make common axis labels\n",
    "f.text(0.5, 0.04, 'Energies (keV)', va='center', ha='center')\n",
    "f.text(0.02, 0.5, 'Intensity (counts/s)', va='center', ha='center', rotation='vertical')\n",
    "angles = ['50','70','90','110','130','150']\n",
    "for i in range(len(angles)):\n",
    "    axes[i].plot(bins*m+b, am_pb_dict[angles[i]]['data']/int(am_pb_dict[angles[i]]['time']))\n",
    "    axes[i].annotate(angles[i]+' deg', (0.3,0.5), xycoords='axes fraction')"
   ]
  },
  {
   "cell_type": "markdown",
   "metadata": {
    "id": "8781f57b-c1ec-4222-a5f0-7e30ff43332a"
   },
   "source": [
    "## Cross Section"
   ]
  },
  {
   "cell_type": "code",
   "execution_count": null,
   "metadata": {
    "executionInfo": {
     "elapsed": 204,
     "status": "aborted",
     "timestamp": 1633816784473,
     "user": {
      "displayName": "Denisse Cordova Carrizales",
      "photoUrl": "https://lh3.googleusercontent.com/a-/AOh14Gi6-_X8ATaiPJnproU3t0LgZpz0xwlu1gqbBeqBRg=s64",
      "userId": "17998173412064941491"
     },
     "user_tz": 240
    },
    "id": "d912365d-867c-4cf3-9dd2-42b2558a5d6b"
   },
   "outputs": [],
   "source": [
    "re = 2.818e-13 #cm classical radiums of the electron\n",
    "keV_g = 1.602176634e-9 #g cm^2/s^2 = erg\n",
    "speed_of_light_cm = 29979245800 #cm/s\n",
    "mass_of_electron = 9.10938356e-31 #kg\n",
    "mass_of_electron_g = 9.10938356e-28 #kg\n",
    "# plank = 6.62607004e-34\n",
    "compton_wavelength = 2.42631023867e-12 #m\n",
    "compton_wavelength_cm = 2.42631023867e-10 #cm\n",
    "\n",
    "\n",
    "r = 25.5 #cm, distance from target to detector\n",
    "h_target = 7.7 #cm\n",
    "d_target = 1.9 #cm\n",
    "crystal_area = 5.08 * 5.08 #cm**2\n",
    "\n",
    "N0 = 6e23 #Avogadro's number\n",
    "# What is the Cs's Currie?\n",
    "I0 = 3.7e10 * 3.69e-3 / (4 * np.pi * r**2) # 1/(cm^2 s)\n",
    "\n",
    "A_al = 26.9 #atomic weight of aluminum\n",
    "A_pb = 207.2 #atomic weight of Lead\n",
    "Z_al = 13 #atomic number of aluminum\n",
    "Z_pb = 82 #atomic number of Lead\n",
    "\n",
    "rho_al = 2.7 #g/cm^3\n",
    "rho_pb = 11.35 #g/cm^3\n",
    "\n",
    "N_al = np.pi * ( d_target / 2) **2 * h_target * rho_al * N0 / A_al * Z_al\n",
    "N_pb = np.pi * ( d_target / 2) **2 * h_target * rho_pb * N0 / A_pb * Z_pb\n"
   ]
  },
  {
   "cell_type": "code",
   "execution_count": null,
   "metadata": {
    "executionInfo": {
     "elapsed": 204,
     "status": "aborted",
     "timestamp": 1633816784474,
     "user": {
      "displayName": "Denisse Cordova Carrizales",
      "photoUrl": "https://lh3.googleusercontent.com/a-/AOh14Gi6-_X8ATaiPJnproU3t0LgZpz0xwlu1gqbBeqBRg=s64",
      "userId": "17998173412064941491"
     },
     "user_tz": 240
    },
    "id": "1def12bb-9857-4310-8e61-82fa6732a7ad"
   },
   "outputs": [],
   "source": [
    "def Klein_Nishina(E0, theta):\n",
    "    a = E0 * keV_g / (mass_of_electron_g *  speed_of_light_cm ** 2) # should be 1.29 for 662 keV\n",
    "    cos = np.cos(np.radians(theta))\n",
    "    return (re ** 2) * ((1+cos**2) / 2) * ( 1 / (1 + a * (1-cos)) **2 ) * (1 + a**2*(1-cos)**2 / (1+cos**2) / (1 + a*(1-cos)))\n",
    "\n",
    "def Klein_Nishina_Etheta(E0, E_theta, theta):\n",
    "    PE = E_theta/E0\n",
    "    return 1 / 2 * re ** 2 * PE ** 2 * (  PE + 1/PE - np.sin(np.radians(theta)) ** 2)\n",
    "\n",
    "def Compton_Shift(E0, theta):\n",
    "    return 1 / (E0*keV) + 1 / (mass_of_electron *  speed_of_light ** 2) * (1-np.cos(np.radians(thetas)))\n",
    " "
   ]
  },
  {
   "cell_type": "code",
   "execution_count": null,
   "metadata": {},
   "outputs": [],
   "source": [
    "plt.plot(thetas, Klein_Nishina(59.5, thetas))\n",
    "plt.plot(thetas, Klein_Nishina(662, thetas))\n"
   ]
  },
  {
   "cell_type": "code",
   "execution_count": null,
   "metadata": {
    "executionInfo": {
     "elapsed": 203,
     "status": "aborted",
     "timestamp": 1633816784474,
     "user": {
      "displayName": "Denisse Cordova Carrizales",
      "photoUrl": "https://lh3.googleusercontent.com/a-/AOh14Gi6-_X8ATaiPJnproU3t0LgZpz0xwlu1gqbBeqBRg=s64",
      "userId": "17998173412064941491"
     },
     "user_tz": 240
    },
    "id": "344d1efe-dfd4-4d8c-9ecc-32635fcc1b0b"
   },
   "outputs": [],
   "source": [
    "662 * keV_g / (mass_of_electron_g *  speed_of_light_cm ** 2)"
   ]
  },
  {
   "cell_type": "code",
   "execution_count": null,
   "metadata": {},
   "outputs": [],
   "source": [
    "1/ (mass_of_electron *  speed_of_light ** 2) * keV"
   ]
  },
  {
   "cell_type": "code",
   "execution_count": null,
   "metadata": {
    "executionInfo": {
     "elapsed": 206,
     "status": "aborted",
     "timestamp": 1633816784477,
     "user": {
      "displayName": "Denisse Cordova Carrizales",
      "photoUrl": "https://lh3.googleusercontent.com/a-/AOh14Gi6-_X8ATaiPJnproU3t0LgZpz0xwlu1gqbBeqBRg=s64",
      "userId": "17998173412064941491"
     },
     "user_tz": 240
    },
    "id": "f72647fb-73b1-4673-9e3c-741563e08efd"
   },
   "outputs": [],
   "source": [
    "Klein_Nishina(662, 5)"
   ]
  },
  {
   "cell_type": "markdown",
   "metadata": {
    "id": "45f476b4-2b96-405d-bae0-cc37b5089337"
   },
   "source": [
    "#### Theoretical values using Klein-Nishina"
   ]
  },
  {
   "cell_type": "code",
   "execution_count": null,
   "metadata": {
    "executionInfo": {
     "elapsed": 64,
     "status": "aborted",
     "timestamp": 1633816784478,
     "user": {
      "displayName": "Denisse Cordova Carrizales",
      "photoUrl": "https://lh3.googleusercontent.com/a-/AOh14Gi6-_X8ATaiPJnproU3t0LgZpz0xwlu1gqbBeqBRg=s64",
      "userId": "17998173412064941491"
     },
     "user_tz": 240
    },
    "id": "19b3cc00-38fe-4a33-a66e-61bbd188ea71"
   },
   "outputs": [],
   "source": [
    "%matplotlib qt\n",
    "plt.rcParams.update({'font.size': 20})\n",
    "plt.rcParams[\"font.family\"] = \"serif\""
   ]
  },
  {
   "cell_type": "code",
   "execution_count": null,
   "metadata": {
    "executionInfo": {
     "elapsed": 59,
     "status": "aborted",
     "timestamp": 1633816784479,
     "user": {
      "displayName": "Denisse Cordova Carrizales",
      "photoUrl": "https://lh3.googleusercontent.com/a-/AOh14Gi6-_X8ATaiPJnproU3t0LgZpz0xwlu1gqbBeqBRg=s64",
      "userId": "17998173412064941491"
     },
     "user_tz": 240
    },
    "id": "5a53d782-6c03-410d-ab61-45afb20f9f0a"
   },
   "outputs": [],
   "source": [
    "thetas = np.linspace(0,180,180)\n",
    "# E_thetas = Compton_Energy(59.5, thetas)\n",
    "diff_cross_secs = Klein_Nishina(59.5, thetas)\n",
    "plt.plot(thetas,diff_cross_secs)"
   ]
  },
  {
   "cell_type": "code",
   "execution_count": null,
   "metadata": {
    "executionInfo": {
     "elapsed": 56,
     "status": "aborted",
     "timestamp": 1633816784479,
     "user": {
      "displayName": "Denisse Cordova Carrizales",
      "photoUrl": "https://lh3.googleusercontent.com/a-/AOh14Gi6-_X8ATaiPJnproU3t0LgZpz0xwlu1gqbBeqBRg=s64",
      "userId": "17998173412064941491"
     },
     "user_tz": 240
    },
    "id": "e0918fff-a33e-44f1-be19-1f0bf52ae969"
   },
   "outputs": [],
   "source": [
    "plt.plot(angles_am_al,shifts_am_al,'o')"
   ]
  },
  {
   "cell_type": "code",
   "execution_count": null,
   "metadata": {
    "executionInfo": {
     "elapsed": 53,
     "status": "aborted",
     "timestamp": 1633816784480,
     "user": {
      "displayName": "Denisse Cordova Carrizales",
      "photoUrl": "https://lh3.googleusercontent.com/a-/AOh14Gi6-_X8ATaiPJnproU3t0LgZpz0xwlu1gqbBeqBRg=s64",
      "userId": "17998173412064941491"
     },
     "user_tz": 240
    },
    "id": "71311463-59fc-487b-a1a3-19426db62679"
   },
   "outputs": [],
   "source": [
    "# plt.figure(figsize=(20,10))\n",
    "plt.figure(figsize=(12,6))\n",
    "plt.plot(angles_am_al, Klein_Nishina_Etheta(59.5, shifts_am_al , angles_am_al),'o',markersize = 10, alpha=0.5, label = 'Aluminum Target')\n",
    "plt.plot(angles_am_pb, Klein_Nishina_Etheta(59.5, shifts_am_pb , angles_am_pb),'o',markersize = 10, alpha=0.5,label = 'Lead Target' )\n",
    "plt.plot(thetas,diff_cross_secs)\n",
    "plt.title('Differential Cross Section of Scattered Americium')\n",
    "plt.xlabel('Angles (radians)')\n",
    "plt.ylabel('Differential Cross Section ($cm^2/sr$)')\n",
    "plt.legend()\n",
    "plt.tight_layout()\n",
    "# plt.plot(thetas, 1 / E_thetas,'o')"
   ]
  },
  {
   "cell_type": "markdown",
   "metadata": {
    "id": "8f856892-6bae-44cd-9cc3-f36e546b2e6e"
   },
   "source": [
    "#### Calculated Values"
   ]
  },
  {
   "cell_type": "code",
   "execution_count": null,
   "metadata": {
    "executionInfo": {
     "elapsed": 50,
     "status": "aborted",
     "timestamp": 1633816784480,
     "user": {
      "displayName": "Denisse Cordova Carrizales",
      "photoUrl": "https://lh3.googleusercontent.com/a-/AOh14Gi6-_X8ATaiPJnproU3t0LgZpz0xwlu1gqbBeqBRg=s64",
      "userId": "17998173412064941491"
     },
     "user_tz": 240
    },
    "id": "fb791165-4d9c-4a6a-a92f-c2312dad6797"
   },
   "outputs": [],
   "source": [
    "np.array(As_am_al) / ( (crystal_area / r ** 2) * N_al * I0)"
   ]
  },
  {
   "cell_type": "code",
   "execution_count": null,
   "metadata": {
    "executionInfo": {
     "elapsed": 47,
     "status": "aborted",
     "timestamp": 1633816784481,
     "user": {
      "displayName": "Denisse Cordova Carrizales",
      "photoUrl": "https://lh3.googleusercontent.com/a-/AOh14Gi6-_X8ATaiPJnproU3t0LgZpz0xwlu1gqbBeqBRg=s64",
      "userId": "17998173412064941491"
     },
     "user_tz": 240
    },
    "id": "6f811d36-a0ed-4579-9c2e-77c879e20ecc"
   },
   "outputs": [],
   "source": [
    "Klein_Nishina(59.5, 130)"
   ]
  },
  {
   "cell_type": "code",
   "execution_count": null,
   "metadata": {
    "executionInfo": {
     "elapsed": 45,
     "status": "aborted",
     "timestamp": 1633816784483,
     "user": {
      "displayName": "Denisse Cordova Carrizales",
      "photoUrl": "https://lh3.googleusercontent.com/a-/AOh14Gi6-_X8ATaiPJnproU3t0LgZpz0xwlu1gqbBeqBRg=s64",
      "userId": "17998173412064941491"
     },
     "user_tz": 240
    },
    "id": "46c9750b-e47c-441e-a042-93f9e60ecc01"
   },
   "outputs": [],
   "source": [
    "%matplotlib inline\n",
    "\n",
    "plt.figure()\n",
    "al_const = ((crystal_area / r ** 2) * N_al * I0)\n",
    "pb_const = ((crystal_area / r ** 2) * N_pb * I0)\n",
    "plt.errorbar(angles_am_al,np.array(As_am_al) / al_const ,yerr = As_err_am_al/al_const,fmt='o')\n",
    "# plt.errorbar(angles_am_pb,np.array(As_am_pb) / pb_const,yerr = As_err_am_pb/pb_const ,fmt='o')\n",
    "plt.plot(thetas, diff_cross_secs)\n",
    "plt.xlabel('Angles')\n",
    "plt.ylabel('Cross Section')\n",
    "plt.title('Cesium Source Aluminum Scattering Target')"
   ]
  },
  {
   "cell_type": "code",
   "execution_count": null,
   "metadata": {},
   "outputs": [],
   "source": [
    "np.mean(np.array(As_am_al) / Klein_Nishina_Etheta(59.5, shifts_am_al , angles_am_al))"
   ]
  },
  {
   "cell_type": "code",
   "execution_count": null,
   "metadata": {},
   "outputs": [],
   "source": [
    "%matplotlib qt\n",
    "\n",
    "plt.figure(figsize=(10,5))\n",
    "# plt.plot(angles_cs_al,np.array(As_cs_al)/As_cs_al[0] / ( (crystal_area / r ** 2) * N_al * I0),'o',label='Measured')\n",
    "plt.errorbar(angles_am_al,np.array(As_am_al),yerr=As_err_am_al,fmt='o',label='Measured')\n",
    "plt.plot(angles_am_al, Klein_Nishina_Etheta(59.5, shifts_am_al , angles_am_al)*7.7e23,'o',markersize = 10, alpha=0.5, label = 'Klein-Nishina')\n",
    "plt.plot(thetas, diff_cross_secs*7.7e23)\n",
    "\n",
    "plt.xlabel('Angles (degrees)')\n",
    "plt.ylabel('Cross Section (cm^2/sr)')\n",
    "plt.title('Americium Source Aluminum Scattering Target')\n",
    "plt.legend()\n",
    "\n"
   ]
  },
  {
   "cell_type": "code",
   "execution_count": null,
   "metadata": {
    "executionInfo": {
     "elapsed": 44,
     "status": "aborted",
     "timestamp": 1633816784483,
     "user": {
      "displayName": "Denisse Cordova Carrizales",
      "photoUrl": "https://lh3.googleusercontent.com/a-/AOh14Gi6-_X8ATaiPJnproU3t0LgZpz0xwlu1gqbBeqBRg=s64",
      "userId": "17998173412064941491"
     },
     "user_tz": 240
    },
    "id": "d98ff4a5-e8d0-4899-94d3-fa9e89da6b0b"
   },
   "outputs": [],
   "source": [
    "%matplotlib qt\n",
    "\n",
    "plt.figure(figsize=(12,6))\n",
    "plt.errorbar(angles_am_al,np.array(As_am_al) / al_const ,yerr = As_err_am_al/al_const ,fmt='o',label='Measured')\n",
    "plt.xlabel('Angles (degrees)')\n",
    "plt.ylabel('Cross Section (cm^2/sr)')\n",
    "plt.title('Americium Source Aluminum Scattering Target')\n",
    "plt.legend()\n",
    "plt.tight_layout()\n",
    "\n",
    "# plt.figure(figsize=(10,5))\n",
    "# plt.plot(angles_am_al, Klein_Nishina_Etheta(59.5, shifts_am_al , angles_am_al),'o',markersize = 10, alpha=0.5, label = 'Klein-Nishina')\n",
    "# plt.xlabel('Angles (degrees)')\n",
    "# plt.ylabel('Cross Section (cm^2/sr)')\n",
    "# plt.title('Americium Source Aluminum Scattering Target')\n",
    "# plt.legend()\n",
    "# plt.tight_layout()\n",
    "\n",
    "plt.figure(figsize=(12,6))\n",
    "plt.errorbar(angles_am_pb,np.array(As_am_pb) / pb_const,yerr = As_err_am_pb/pb_const ,fmt='o',label='Measured')\n",
    "# plt.plot(thetas, diff_cross_secs)\n",
    "plt.xlabel('Angles (degrees)')\n",
    "plt.ylabel('Cross Section (cm^2/sr)')\n",
    "plt.title('Americium Source Lead Scattering Target')\n",
    "plt.legend()\n",
    "plt.tight_layout()\n",
    "\n",
    "# plt.figure(figsize=(10,5))\n",
    "# plt.plot(angles_am_pb, Klein_Nishina_Etheta(59.5, shifts_am_pb , angles_am_pb),'o',markersize = 10, alpha=0.5,label = 'Klein-Nishina' )\n",
    "# # plt.plot(thetas, diff_cross_secs)\n",
    "# plt.xlabel('Angles (degrees)')\n",
    "# plt.ylabel('Cross Section (cm^2/sr)')\n",
    "# plt.title('Americium Source Lead Scattering Target')\n",
    "# plt.legend()\n",
    "# plt.tight_layout()"
   ]
  },
  {
   "cell_type": "code",
   "execution_count": null,
   "metadata": {
    "executionInfo": {
     "elapsed": 43,
     "status": "aborted",
     "timestamp": 1633816784484,
     "user": {
      "displayName": "Denisse Cordova Carrizales",
      "photoUrl": "https://lh3.googleusercontent.com/a-/AOh14Gi6-_X8ATaiPJnproU3t0LgZpz0xwlu1gqbBeqBRg=s64",
      "userId": "17998173412064941491"
     },
     "user_tz": 240
    },
    "id": "c6942959-9d7e-4162-9360-0379d82e1df7"
   },
   "outputs": [],
   "source": []
  }
 ],
 "metadata": {
  "colab": {
   "name": "Americium.ipynb",
   "provenance": []
  },
  "kernelspec": {
   "display_name": "Python 3",
   "language": "python",
   "name": "python3"
  },
  "language_info": {
   "codemirror_mode": {
    "name": "ipython",
    "version": 3
   },
   "file_extension": ".py",
   "mimetype": "text/x-python",
   "name": "python",
   "nbconvert_exporter": "python",
   "pygments_lexer": "ipython3",
   "version": "3.7.6"
  }
 },
 "nbformat": 4,
 "nbformat_minor": 5
}
